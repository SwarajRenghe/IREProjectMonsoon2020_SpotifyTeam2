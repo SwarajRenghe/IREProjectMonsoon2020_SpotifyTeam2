{
  "nbformat": 4,
  "nbformat_minor": 0,
  "metadata": {
    "colab": {
      "name": "NCF+Features+Scalability.ipynb",
      "provenance": [],
      "collapsed_sections": []
    },
    "kernelspec": {
      "name": "python3",
      "display_name": "Python 3"
    },
    "accelerator": "GPU"
  },
  "cells": [
    {
      "cell_type": "code",
      "metadata": {
        "id": "D1puobnxUb-2"
      },
      "source": [
        "import pandas as pd\n",
        "import numpy as np\n",
        "import scipy.sparse as sp\n",
        "import json"
      ],
      "execution_count": 1,
      "outputs": []
    },
    {
      "cell_type": "code",
      "metadata": {
        "id": "1VOvhPtPaA36",
        "outputId": "de855277-7cbf-4f2e-a1ba-60ed4ecc7771",
        "colab": {
          "base_uri": "https://localhost:8080/"
        }
      },
      "source": [
        "from google.colab import drive\n",
        "drive.mount(\"/content/drive\", force_remount=True)"
      ],
      "execution_count": 2,
      "outputs": [
        {
          "output_type": "stream",
          "text": [
            "Mounted at /content/drive\n"
          ],
          "name": "stdout"
        }
      ]
    },
    {
      "cell_type": "code",
      "metadata": {
        "id": "6RxVP2uQXS9X"
      },
      "source": [
        "def read(start, end):\n",
        "    path = '/content/drive/My Drive/MusicRecommendationSystem/data/10000 Playlists/mpd.slice.' + str(start) + \"-\" + str(end-1) + '.json'\n",
        "    d = json.load(open(path, 'r'))\n",
        "    df = pd.DataFrame.from_dict(d['playlists'], orient='columns')\n",
        "    return df"
      ],
      "execution_count": 3,
      "outputs": []
    },
    {
      "cell_type": "code",
      "metadata": {
        "id": "HEsp9gcpVVEN",
        "outputId": "e7599099-56e3-420b-ac29-2559b25d5915",
        "colab": {
          "base_uri": "https://localhost:8080/"
        }
      },
      "source": [
        "f1 = read(0, 1000)\n",
        "f2 = read(1000, 2000)\n",
        "f3 = read(2000, 3000)\n",
        "f4 = read(3000, 4000)\n",
        "traindata = pd.concat([f1, f2, f3, f4])\n",
        "\n",
        "print(len(traindata))"
      ],
      "execution_count": 6,
      "outputs": [
        {
          "output_type": "stream",
          "text": [
            "4000\n"
          ],
          "name": "stdout"
        }
      ]
    },
    {
      "cell_type": "code",
      "metadata": {
        "id": "i6BHhjA6-jh0",
        "outputId": "517c01e8-e6cb-4e2d-b3a5-a7fbd0671df5",
        "colab": {
          "base_uri": "https://localhost:8080/",
          "height": 206
        }
      },
      "source": [
        "traindata.head()"
      ],
      "execution_count": 7,
      "outputs": [
        {
          "output_type": "execute_result",
          "data": {
            "text/html": [
              "<div>\n",
              "<style scoped>\n",
              "    .dataframe tbody tr th:only-of-type {\n",
              "        vertical-align: middle;\n",
              "    }\n",
              "\n",
              "    .dataframe tbody tr th {\n",
              "        vertical-align: top;\n",
              "    }\n",
              "\n",
              "    .dataframe thead th {\n",
              "        text-align: right;\n",
              "    }\n",
              "</style>\n",
              "<table border=\"1\" class=\"dataframe\">\n",
              "  <thead>\n",
              "    <tr style=\"text-align: right;\">\n",
              "      <th></th>\n",
              "      <th>name</th>\n",
              "      <th>collaborative</th>\n",
              "      <th>pid</th>\n",
              "      <th>modified_at</th>\n",
              "      <th>num_tracks</th>\n",
              "      <th>num_albums</th>\n",
              "      <th>num_followers</th>\n",
              "      <th>tracks</th>\n",
              "      <th>num_edits</th>\n",
              "      <th>duration_ms</th>\n",
              "      <th>num_artists</th>\n",
              "      <th>description</th>\n",
              "    </tr>\n",
              "  </thead>\n",
              "  <tbody>\n",
              "    <tr>\n",
              "      <th>0</th>\n",
              "      <td>Throwbacks</td>\n",
              "      <td>false</td>\n",
              "      <td>0</td>\n",
              "      <td>1493424000</td>\n",
              "      <td>52</td>\n",
              "      <td>47</td>\n",
              "      <td>1</td>\n",
              "      <td>[{'pos': 0, 'artist_name': 'Missy Elliott', 't...</td>\n",
              "      <td>6</td>\n",
              "      <td>11532414</td>\n",
              "      <td>37</td>\n",
              "      <td>NaN</td>\n",
              "    </tr>\n",
              "    <tr>\n",
              "      <th>1</th>\n",
              "      <td>Awesome Playlist</td>\n",
              "      <td>false</td>\n",
              "      <td>1</td>\n",
              "      <td>1506556800</td>\n",
              "      <td>39</td>\n",
              "      <td>23</td>\n",
              "      <td>1</td>\n",
              "      <td>[{'pos': 0, 'artist_name': 'Survivor', 'track_...</td>\n",
              "      <td>5</td>\n",
              "      <td>11656470</td>\n",
              "      <td>21</td>\n",
              "      <td>NaN</td>\n",
              "    </tr>\n",
              "    <tr>\n",
              "      <th>2</th>\n",
              "      <td>korean</td>\n",
              "      <td>false</td>\n",
              "      <td>2</td>\n",
              "      <td>1505692800</td>\n",
              "      <td>64</td>\n",
              "      <td>51</td>\n",
              "      <td>1</td>\n",
              "      <td>[{'pos': 0, 'artist_name': 'Hoody', 'track_uri...</td>\n",
              "      <td>18</td>\n",
              "      <td>14039958</td>\n",
              "      <td>31</td>\n",
              "      <td>NaN</td>\n",
              "    </tr>\n",
              "    <tr>\n",
              "      <th>3</th>\n",
              "      <td>mat</td>\n",
              "      <td>false</td>\n",
              "      <td>3</td>\n",
              "      <td>1501027200</td>\n",
              "      <td>126</td>\n",
              "      <td>107</td>\n",
              "      <td>1</td>\n",
              "      <td>[{'pos': 0, 'artist_name': 'Camille Saint-Saën...</td>\n",
              "      <td>4</td>\n",
              "      <td>28926058</td>\n",
              "      <td>86</td>\n",
              "      <td>NaN</td>\n",
              "    </tr>\n",
              "    <tr>\n",
              "      <th>4</th>\n",
              "      <td>90s</td>\n",
              "      <td>false</td>\n",
              "      <td>4</td>\n",
              "      <td>1401667200</td>\n",
              "      <td>17</td>\n",
              "      <td>16</td>\n",
              "      <td>2</td>\n",
              "      <td>[{'pos': 0, 'artist_name': 'The Smashing Pumpk...</td>\n",
              "      <td>7</td>\n",
              "      <td>4335282</td>\n",
              "      <td>16</td>\n",
              "      <td>NaN</td>\n",
              "    </tr>\n",
              "  </tbody>\n",
              "</table>\n",
              "</div>"
            ],
            "text/plain": [
              "               name collaborative  pid  ...  duration_ms  num_artists  description\n",
              "0        Throwbacks         false    0  ...     11532414           37          NaN\n",
              "1  Awesome Playlist         false    1  ...     11656470           21          NaN\n",
              "2           korean          false    2  ...     14039958           31          NaN\n",
              "3               mat         false    3  ...     28926058           86          NaN\n",
              "4               90s         false    4  ...      4335282           16          NaN\n",
              "\n",
              "[5 rows x 12 columns]"
            ]
          },
          "metadata": {
            "tags": []
          },
          "execution_count": 7
        }
      ]
    },
    {
      "cell_type": "code",
      "metadata": {
        "id": "rJ7cGl_OcZz8",
        "outputId": "a8408dc8-3a47-4f86-8e4b-e14c333a987c",
        "colab": {
          "base_uri": "https://localhost:8080/",
          "height": 223
        }
      },
      "source": [
        "#Turn user level dataframe into song level dataframe\n",
        "songUserArray = []\n",
        "for index, row in traindata.iterrows():\n",
        "    for track in row['tracks']:\n",
        "        songUserArray.append([track['track_uri'], track['artist_name'], track['track_name'], row['pid']])\n",
        "songPlaylist = pd.DataFrame(songUserArray, columns=['trackid', 'artist_name', 'track_name', 'pid'])\n",
        "\n",
        "print(songPlaylist.shape)\n",
        "songPlaylist.head(5) "
      ],
      "execution_count": 8,
      "outputs": [
        {
          "output_type": "stream",
          "text": [
            "(266386, 4)\n"
          ],
          "name": "stdout"
        },
        {
          "output_type": "execute_result",
          "data": {
            "text/html": [
              "<div>\n",
              "<style scoped>\n",
              "    .dataframe tbody tr th:only-of-type {\n",
              "        vertical-align: middle;\n",
              "    }\n",
              "\n",
              "    .dataframe tbody tr th {\n",
              "        vertical-align: top;\n",
              "    }\n",
              "\n",
              "    .dataframe thead th {\n",
              "        text-align: right;\n",
              "    }\n",
              "</style>\n",
              "<table border=\"1\" class=\"dataframe\">\n",
              "  <thead>\n",
              "    <tr style=\"text-align: right;\">\n",
              "      <th></th>\n",
              "      <th>trackid</th>\n",
              "      <th>artist_name</th>\n",
              "      <th>track_name</th>\n",
              "      <th>pid</th>\n",
              "    </tr>\n",
              "  </thead>\n",
              "  <tbody>\n",
              "    <tr>\n",
              "      <th>0</th>\n",
              "      <td>spotify:track:0UaMYEvWZi0ZqiDOoHU3YI</td>\n",
              "      <td>Missy Elliott</td>\n",
              "      <td>Lose Control (feat. Ciara &amp; Fat Man Scoop)</td>\n",
              "      <td>0</td>\n",
              "    </tr>\n",
              "    <tr>\n",
              "      <th>1</th>\n",
              "      <td>spotify:track:6I9VzXrHxO9rA9A5euc8Ak</td>\n",
              "      <td>Britney Spears</td>\n",
              "      <td>Toxic</td>\n",
              "      <td>0</td>\n",
              "    </tr>\n",
              "    <tr>\n",
              "      <th>2</th>\n",
              "      <td>spotify:track:0WqIKmW4BTrj3eJFmnCKMv</td>\n",
              "      <td>Beyoncé</td>\n",
              "      <td>Crazy In Love</td>\n",
              "      <td>0</td>\n",
              "    </tr>\n",
              "    <tr>\n",
              "      <th>3</th>\n",
              "      <td>spotify:track:1AWQoqb9bSvzTjaLralEkT</td>\n",
              "      <td>Justin Timberlake</td>\n",
              "      <td>Rock Your Body</td>\n",
              "      <td>0</td>\n",
              "    </tr>\n",
              "    <tr>\n",
              "      <th>4</th>\n",
              "      <td>spotify:track:1lzr43nnXAijIGYnCT8M8H</td>\n",
              "      <td>Shaggy</td>\n",
              "      <td>It Wasn't Me</td>\n",
              "      <td>0</td>\n",
              "    </tr>\n",
              "  </tbody>\n",
              "</table>\n",
              "</div>"
            ],
            "text/plain": [
              "                                trackid  ... pid\n",
              "0  spotify:track:0UaMYEvWZi0ZqiDOoHU3YI  ...   0\n",
              "1  spotify:track:6I9VzXrHxO9rA9A5euc8Ak  ...   0\n",
              "2  spotify:track:0WqIKmW4BTrj3eJFmnCKMv  ...   0\n",
              "3  spotify:track:1AWQoqb9bSvzTjaLralEkT  ...   0\n",
              "4  spotify:track:1lzr43nnXAijIGYnCT8M8H  ...   0\n",
              "\n",
              "[5 rows x 4 columns]"
            ]
          },
          "metadata": {
            "tags": []
          },
          "execution_count": 8
        }
      ]
    },
    {
      "cell_type": "code",
      "metadata": {
        "id": "lUnOETeqc6dG",
        "outputId": "08192f08-ac60-45a5-c5ff-ac84681e12ee",
        "colab": {
          "base_uri": "https://localhost:8080/",
          "height": 380
        }
      },
      "source": [
        "songPlaylist['trackindex'] = songPlaylist['trackid'].astype('category').cat.codes\n",
        "print(len(songPlaylist['trackindex'].unique()))\n",
        "songPlaylist.head(10)\n"
      ],
      "execution_count": 9,
      "outputs": [
        {
          "output_type": "stream",
          "text": [
            "93139\n"
          ],
          "name": "stdout"
        },
        {
          "output_type": "execute_result",
          "data": {
            "text/html": [
              "<div>\n",
              "<style scoped>\n",
              "    .dataframe tbody tr th:only-of-type {\n",
              "        vertical-align: middle;\n",
              "    }\n",
              "\n",
              "    .dataframe tbody tr th {\n",
              "        vertical-align: top;\n",
              "    }\n",
              "\n",
              "    .dataframe thead th {\n",
              "        text-align: right;\n",
              "    }\n",
              "</style>\n",
              "<table border=\"1\" class=\"dataframe\">\n",
              "  <thead>\n",
              "    <tr style=\"text-align: right;\">\n",
              "      <th></th>\n",
              "      <th>trackid</th>\n",
              "      <th>artist_name</th>\n",
              "      <th>track_name</th>\n",
              "      <th>pid</th>\n",
              "      <th>trackindex</th>\n",
              "    </tr>\n",
              "  </thead>\n",
              "  <tbody>\n",
              "    <tr>\n",
              "      <th>0</th>\n",
              "      <td>spotify:track:0UaMYEvWZi0ZqiDOoHU3YI</td>\n",
              "      <td>Missy Elliott</td>\n",
              "      <td>Lose Control (feat. Ciara &amp; Fat Man Scoop)</td>\n",
              "      <td>0</td>\n",
              "      <td>6012</td>\n",
              "    </tr>\n",
              "    <tr>\n",
              "      <th>1</th>\n",
              "      <td>spotify:track:6I9VzXrHxO9rA9A5euc8Ak</td>\n",
              "      <td>Britney Spears</td>\n",
              "      <td>Toxic</td>\n",
              "      <td>0</td>\n",
              "      <td>75211</td>\n",
              "    </tr>\n",
              "    <tr>\n",
              "      <th>2</th>\n",
              "      <td>spotify:track:0WqIKmW4BTrj3eJFmnCKMv</td>\n",
              "      <td>Beyoncé</td>\n",
              "      <td>Crazy In Love</td>\n",
              "      <td>0</td>\n",
              "      <td>6463</td>\n",
              "    </tr>\n",
              "    <tr>\n",
              "      <th>3</th>\n",
              "      <td>spotify:track:1AWQoqb9bSvzTjaLralEkT</td>\n",
              "      <td>Justin Timberlake</td>\n",
              "      <td>Rock Your Body</td>\n",
              "      <td>0</td>\n",
              "      <td>14099</td>\n",
              "    </tr>\n",
              "    <tr>\n",
              "      <th>4</th>\n",
              "      <td>spotify:track:1lzr43nnXAijIGYnCT8M8H</td>\n",
              "      <td>Shaggy</td>\n",
              "      <td>It Wasn't Me</td>\n",
              "      <td>0</td>\n",
              "      <td>21292</td>\n",
              "    </tr>\n",
              "    <tr>\n",
              "      <th>5</th>\n",
              "      <td>spotify:track:0XUfyU2QviPAs6bxSpXYG4</td>\n",
              "      <td>Usher</td>\n",
              "      <td>Yeah!</td>\n",
              "      <td>0</td>\n",
              "      <td>6593</td>\n",
              "    </tr>\n",
              "    <tr>\n",
              "      <th>6</th>\n",
              "      <td>spotify:track:68vgtRHr7iZHpzGpon6Jlo</td>\n",
              "      <td>Usher</td>\n",
              "      <td>My Boo</td>\n",
              "      <td>0</td>\n",
              "      <td>73389</td>\n",
              "    </tr>\n",
              "    <tr>\n",
              "      <th>7</th>\n",
              "      <td>spotify:track:3BxWKCI06eQ5Od8TY2JBeA</td>\n",
              "      <td>The Pussycat Dolls</td>\n",
              "      <td>Buttons</td>\n",
              "      <td>0</td>\n",
              "      <td>38291</td>\n",
              "    </tr>\n",
              "    <tr>\n",
              "      <th>8</th>\n",
              "      <td>spotify:track:7H6ev70Weq6DdpZyyTmUXk</td>\n",
              "      <td>Destiny's Child</td>\n",
              "      <td>Say My Name</td>\n",
              "      <td>0</td>\n",
              "      <td>86994</td>\n",
              "    </tr>\n",
              "    <tr>\n",
              "      <th>9</th>\n",
              "      <td>spotify:track:2PpruBYCo4H7WOBJ7Q2EwM</td>\n",
              "      <td>OutKast</td>\n",
              "      <td>Hey Ya! - Radio Mix / Club Mix</td>\n",
              "      <td>0</td>\n",
              "      <td>28961</td>\n",
              "    </tr>\n",
              "  </tbody>\n",
              "</table>\n",
              "</div>"
            ],
            "text/plain": [
              "                                trackid         artist_name  ... pid  trackindex\n",
              "0  spotify:track:0UaMYEvWZi0ZqiDOoHU3YI       Missy Elliott  ...   0        6012\n",
              "1  spotify:track:6I9VzXrHxO9rA9A5euc8Ak      Britney Spears  ...   0       75211\n",
              "2  spotify:track:0WqIKmW4BTrj3eJFmnCKMv             Beyoncé  ...   0        6463\n",
              "3  spotify:track:1AWQoqb9bSvzTjaLralEkT   Justin Timberlake  ...   0       14099\n",
              "4  spotify:track:1lzr43nnXAijIGYnCT8M8H              Shaggy  ...   0       21292\n",
              "5  spotify:track:0XUfyU2QviPAs6bxSpXYG4               Usher  ...   0        6593\n",
              "6  spotify:track:68vgtRHr7iZHpzGpon6Jlo               Usher  ...   0       73389\n",
              "7  spotify:track:3BxWKCI06eQ5Od8TY2JBeA  The Pussycat Dolls  ...   0       38291\n",
              "8  spotify:track:7H6ev70Weq6DdpZyyTmUXk     Destiny's Child  ...   0       86994\n",
              "9  spotify:track:2PpruBYCo4H7WOBJ7Q2EwM             OutKast  ...   0       28961\n",
              "\n",
              "[10 rows x 5 columns]"
            ]
          },
          "metadata": {
            "tags": []
          },
          "execution_count": 9
        }
      ]
    },
    {
      "cell_type": "code",
      "metadata": {
        "id": "f9oCgEFjdAqr",
        "outputId": "05e7374c-e3bb-440a-da2b-64ada10c64d5",
        "colab": {
          "base_uri": "https://localhost:8080/",
          "height": 363
        }
      },
      "source": [
        "train_withoutfeatures = songPlaylist\n",
        "train_withoutfeatures.head(10)"
      ],
      "execution_count": 10,
      "outputs": [
        {
          "output_type": "execute_result",
          "data": {
            "text/html": [
              "<div>\n",
              "<style scoped>\n",
              "    .dataframe tbody tr th:only-of-type {\n",
              "        vertical-align: middle;\n",
              "    }\n",
              "\n",
              "    .dataframe tbody tr th {\n",
              "        vertical-align: top;\n",
              "    }\n",
              "\n",
              "    .dataframe thead th {\n",
              "        text-align: right;\n",
              "    }\n",
              "</style>\n",
              "<table border=\"1\" class=\"dataframe\">\n",
              "  <thead>\n",
              "    <tr style=\"text-align: right;\">\n",
              "      <th></th>\n",
              "      <th>trackid</th>\n",
              "      <th>artist_name</th>\n",
              "      <th>track_name</th>\n",
              "      <th>pid</th>\n",
              "      <th>trackindex</th>\n",
              "    </tr>\n",
              "  </thead>\n",
              "  <tbody>\n",
              "    <tr>\n",
              "      <th>0</th>\n",
              "      <td>spotify:track:0UaMYEvWZi0ZqiDOoHU3YI</td>\n",
              "      <td>Missy Elliott</td>\n",
              "      <td>Lose Control (feat. Ciara &amp; Fat Man Scoop)</td>\n",
              "      <td>0</td>\n",
              "      <td>6012</td>\n",
              "    </tr>\n",
              "    <tr>\n",
              "      <th>1</th>\n",
              "      <td>spotify:track:6I9VzXrHxO9rA9A5euc8Ak</td>\n",
              "      <td>Britney Spears</td>\n",
              "      <td>Toxic</td>\n",
              "      <td>0</td>\n",
              "      <td>75211</td>\n",
              "    </tr>\n",
              "    <tr>\n",
              "      <th>2</th>\n",
              "      <td>spotify:track:0WqIKmW4BTrj3eJFmnCKMv</td>\n",
              "      <td>Beyoncé</td>\n",
              "      <td>Crazy In Love</td>\n",
              "      <td>0</td>\n",
              "      <td>6463</td>\n",
              "    </tr>\n",
              "    <tr>\n",
              "      <th>3</th>\n",
              "      <td>spotify:track:1AWQoqb9bSvzTjaLralEkT</td>\n",
              "      <td>Justin Timberlake</td>\n",
              "      <td>Rock Your Body</td>\n",
              "      <td>0</td>\n",
              "      <td>14099</td>\n",
              "    </tr>\n",
              "    <tr>\n",
              "      <th>4</th>\n",
              "      <td>spotify:track:1lzr43nnXAijIGYnCT8M8H</td>\n",
              "      <td>Shaggy</td>\n",
              "      <td>It Wasn't Me</td>\n",
              "      <td>0</td>\n",
              "      <td>21292</td>\n",
              "    </tr>\n",
              "    <tr>\n",
              "      <th>5</th>\n",
              "      <td>spotify:track:0XUfyU2QviPAs6bxSpXYG4</td>\n",
              "      <td>Usher</td>\n",
              "      <td>Yeah!</td>\n",
              "      <td>0</td>\n",
              "      <td>6593</td>\n",
              "    </tr>\n",
              "    <tr>\n",
              "      <th>6</th>\n",
              "      <td>spotify:track:68vgtRHr7iZHpzGpon6Jlo</td>\n",
              "      <td>Usher</td>\n",
              "      <td>My Boo</td>\n",
              "      <td>0</td>\n",
              "      <td>73389</td>\n",
              "    </tr>\n",
              "    <tr>\n",
              "      <th>7</th>\n",
              "      <td>spotify:track:3BxWKCI06eQ5Od8TY2JBeA</td>\n",
              "      <td>The Pussycat Dolls</td>\n",
              "      <td>Buttons</td>\n",
              "      <td>0</td>\n",
              "      <td>38291</td>\n",
              "    </tr>\n",
              "    <tr>\n",
              "      <th>8</th>\n",
              "      <td>spotify:track:7H6ev70Weq6DdpZyyTmUXk</td>\n",
              "      <td>Destiny's Child</td>\n",
              "      <td>Say My Name</td>\n",
              "      <td>0</td>\n",
              "      <td>86994</td>\n",
              "    </tr>\n",
              "    <tr>\n",
              "      <th>9</th>\n",
              "      <td>spotify:track:2PpruBYCo4H7WOBJ7Q2EwM</td>\n",
              "      <td>OutKast</td>\n",
              "      <td>Hey Ya! - Radio Mix / Club Mix</td>\n",
              "      <td>0</td>\n",
              "      <td>28961</td>\n",
              "    </tr>\n",
              "  </tbody>\n",
              "</table>\n",
              "</div>"
            ],
            "text/plain": [
              "                                trackid         artist_name  ... pid  trackindex\n",
              "0  spotify:track:0UaMYEvWZi0ZqiDOoHU3YI       Missy Elliott  ...   0        6012\n",
              "1  spotify:track:6I9VzXrHxO9rA9A5euc8Ak      Britney Spears  ...   0       75211\n",
              "2  spotify:track:0WqIKmW4BTrj3eJFmnCKMv             Beyoncé  ...   0        6463\n",
              "3  spotify:track:1AWQoqb9bSvzTjaLralEkT   Justin Timberlake  ...   0       14099\n",
              "4  spotify:track:1lzr43nnXAijIGYnCT8M8H              Shaggy  ...   0       21292\n",
              "5  spotify:track:0XUfyU2QviPAs6bxSpXYG4               Usher  ...   0        6593\n",
              "6  spotify:track:68vgtRHr7iZHpzGpon6Jlo               Usher  ...   0       73389\n",
              "7  spotify:track:3BxWKCI06eQ5Od8TY2JBeA  The Pussycat Dolls  ...   0       38291\n",
              "8  spotify:track:7H6ev70Weq6DdpZyyTmUXk     Destiny's Child  ...   0       86994\n",
              "9  spotify:track:2PpruBYCo4H7WOBJ7Q2EwM             OutKast  ...   0       28961\n",
              "\n",
              "[10 rows x 5 columns]"
            ]
          },
          "metadata": {
            "tags": []
          },
          "execution_count": 10
        }
      ]
    },
    {
      "cell_type": "code",
      "metadata": {
        "id": "Jki8c2g-y5Hj",
        "outputId": "d96b21eb-6715-4abf-94d8-a0fcb9fb0611",
        "colab": {
          "base_uri": "https://localhost:8080/",
          "height": 435
        }
      },
      "source": [
        "\n",
        "features = ['Danceability','Instrumentalness','Loudness','Speechiness','Valence','Energy','Mode','Tempo','Livenss','Key','Acousticness']\n",
        "train = pd.read_csv(\"/content/drive/My Drive/MusicRecommendationSystem/all_features4k_playlist.csv\")\n",
        "train['trackindex'] = train['trackid'].astype('category').cat.codes\n",
        "# user_input, item_input, labels = get_features(train,features)\n",
        "# print(len(user_input),len(item_input))\n",
        "train.head()"
      ],
      "execution_count": 11,
      "outputs": [
        {
          "output_type": "execute_result",
          "data": {
            "text/html": [
              "<div>\n",
              "<style scoped>\n",
              "    .dataframe tbody tr th:only-of-type {\n",
              "        vertical-align: middle;\n",
              "    }\n",
              "\n",
              "    .dataframe tbody tr th {\n",
              "        vertical-align: top;\n",
              "    }\n",
              "\n",
              "    .dataframe thead th {\n",
              "        text-align: right;\n",
              "    }\n",
              "</style>\n",
              "<table border=\"1\" class=\"dataframe\">\n",
              "  <thead>\n",
              "    <tr style=\"text-align: right;\">\n",
              "      <th></th>\n",
              "      <th>Unnamed: 0</th>\n",
              "      <th>trackid</th>\n",
              "      <th>artist_name</th>\n",
              "      <th>track_name</th>\n",
              "      <th>duration_ms</th>\n",
              "      <th>album_name</th>\n",
              "      <th>pid</th>\n",
              "      <th>Danceability</th>\n",
              "      <th>Instrumentalness</th>\n",
              "      <th>Loudness</th>\n",
              "      <th>Speechiness</th>\n",
              "      <th>Valence</th>\n",
              "      <th>Energy</th>\n",
              "      <th>Mode</th>\n",
              "      <th>Tempo</th>\n",
              "      <th>Livenss</th>\n",
              "      <th>Key</th>\n",
              "      <th>Acousticness</th>\n",
              "      <th>trackindex</th>\n",
              "    </tr>\n",
              "  </thead>\n",
              "  <tbody>\n",
              "    <tr>\n",
              "      <th>0</th>\n",
              "      <td>0</td>\n",
              "      <td>spotify:track:0UaMYEvWZi0ZqiDOoHU3YI</td>\n",
              "      <td>Missy Elliott</td>\n",
              "      <td>Lose Control (feat. Ciara &amp; Fat Man Scoop)</td>\n",
              "      <td>226863</td>\n",
              "      <td>The Cookbook</td>\n",
              "      <td>0</td>\n",
              "      <td>0.904</td>\n",
              "      <td>0.006970</td>\n",
              "      <td>-7.105</td>\n",
              "      <td>0.1210</td>\n",
              "      <td>0.810</td>\n",
              "      <td>0.813</td>\n",
              "      <td>0</td>\n",
              "      <td>125.461</td>\n",
              "      <td>0.0471</td>\n",
              "      <td>4</td>\n",
              "      <td>0.03110</td>\n",
              "      <td>6012</td>\n",
              "    </tr>\n",
              "    <tr>\n",
              "      <th>1</th>\n",
              "      <td>1</td>\n",
              "      <td>spotify:track:6I9VzXrHxO9rA9A5euc8Ak</td>\n",
              "      <td>Britney Spears</td>\n",
              "      <td>Toxic</td>\n",
              "      <td>198800</td>\n",
              "      <td>In The Zone</td>\n",
              "      <td>0</td>\n",
              "      <td>0.774</td>\n",
              "      <td>0.025000</td>\n",
              "      <td>-3.914</td>\n",
              "      <td>0.1140</td>\n",
              "      <td>0.924</td>\n",
              "      <td>0.838</td>\n",
              "      <td>0</td>\n",
              "      <td>143.040</td>\n",
              "      <td>0.2420</td>\n",
              "      <td>5</td>\n",
              "      <td>0.02490</td>\n",
              "      <td>75211</td>\n",
              "    </tr>\n",
              "    <tr>\n",
              "      <th>2</th>\n",
              "      <td>2</td>\n",
              "      <td>spotify:track:0WqIKmW4BTrj3eJFmnCKMv</td>\n",
              "      <td>Beyoncé</td>\n",
              "      <td>Crazy In Love</td>\n",
              "      <td>235933</td>\n",
              "      <td>Dangerously In Love (Alben für die Ewigkeit)</td>\n",
              "      <td>0</td>\n",
              "      <td>0.664</td>\n",
              "      <td>0.000000</td>\n",
              "      <td>-6.583</td>\n",
              "      <td>0.2100</td>\n",
              "      <td>0.701</td>\n",
              "      <td>0.758</td>\n",
              "      <td>0</td>\n",
              "      <td>99.259</td>\n",
              "      <td>0.0598</td>\n",
              "      <td>2</td>\n",
              "      <td>0.00238</td>\n",
              "      <td>6463</td>\n",
              "    </tr>\n",
              "    <tr>\n",
              "      <th>3</th>\n",
              "      <td>3</td>\n",
              "      <td>spotify:track:1AWQoqb9bSvzTjaLralEkT</td>\n",
              "      <td>Justin Timberlake</td>\n",
              "      <td>Rock Your Body</td>\n",
              "      <td>267266</td>\n",
              "      <td>Justified</td>\n",
              "      <td>0</td>\n",
              "      <td>0.891</td>\n",
              "      <td>0.000234</td>\n",
              "      <td>-6.055</td>\n",
              "      <td>0.1400</td>\n",
              "      <td>0.818</td>\n",
              "      <td>0.714</td>\n",
              "      <td>0</td>\n",
              "      <td>100.972</td>\n",
              "      <td>0.0521</td>\n",
              "      <td>4</td>\n",
              "      <td>0.20200</td>\n",
              "      <td>14099</td>\n",
              "    </tr>\n",
              "    <tr>\n",
              "      <th>4</th>\n",
              "      <td>4</td>\n",
              "      <td>spotify:track:1lzr43nnXAijIGYnCT8M8H</td>\n",
              "      <td>Shaggy</td>\n",
              "      <td>It Wasn't Me</td>\n",
              "      <td>227600</td>\n",
              "      <td>Hot Shot</td>\n",
              "      <td>0</td>\n",
              "      <td>0.853</td>\n",
              "      <td>0.000000</td>\n",
              "      <td>-4.596</td>\n",
              "      <td>0.0713</td>\n",
              "      <td>0.654</td>\n",
              "      <td>0.606</td>\n",
              "      <td>1</td>\n",
              "      <td>94.759</td>\n",
              "      <td>0.3130</td>\n",
              "      <td>0</td>\n",
              "      <td>0.05610</td>\n",
              "      <td>21292</td>\n",
              "    </tr>\n",
              "  </tbody>\n",
              "</table>\n",
              "</div>"
            ],
            "text/plain": [
              "   Unnamed: 0                               trackid  ... Acousticness trackindex\n",
              "0           0  spotify:track:0UaMYEvWZi0ZqiDOoHU3YI  ...      0.03110       6012\n",
              "1           1  spotify:track:6I9VzXrHxO9rA9A5euc8Ak  ...      0.02490      75211\n",
              "2           2  spotify:track:0WqIKmW4BTrj3eJFmnCKMv  ...      0.00238       6463\n",
              "3           3  spotify:track:1AWQoqb9bSvzTjaLralEkT  ...      0.20200      14099\n",
              "4           4  spotify:track:1lzr43nnXAijIGYnCT8M8H  ...      0.05610      21292\n",
              "\n",
              "[5 rows x 19 columns]"
            ]
          },
          "metadata": {
            "tags": []
          },
          "execution_count": 11
        }
      ]
    },
    {
      "cell_type": "code",
      "metadata": {
        "id": "mV2FATpjEUzw",
        "outputId": "1435dd09-0dcc-4940-f36a-e6dfa7d3934c",
        "colab": {
          "base_uri": "https://localhost:8080/"
        }
      },
      "source": [
        "'''\n",
        "Sparse matrix - Dimensions : (NoOfPlaylists,NoOfSOngs)\n",
        "Sparse matrix[i][j] = 1 if playlist i contains song j \n",
        "                      0 other wise \n",
        "                      \n",
        "    We cannot scale this matrix for large datasets.\n",
        "'''\n",
        "# Playlists - Song Matrix \n",
        "print(len(traindata), len(train['trackindex'].unique()))\n",
        "mat = sp.dok_matrix((len(traindata), len(train['trackindex'].unique())), dtype=np.float32)\n",
        "for pid, trackindex in zip(train['pid'], train['trackindex']):\n",
        "    try:\n",
        "      mat[pid, trackindex] = 1.0\n",
        "    except:\n",
        "      print(pid)\n",
        "      print(trackindex)\n",
        "      break\n"
      ],
      "execution_count": null,
      "outputs": [
        {
          "output_type": "stream",
          "text": [
            "4000 93139\n"
          ],
          "name": "stdout"
        }
      ]
    },
    {
      "cell_type": "code",
      "metadata": {
        "id": "6u5EP-pfJj0R",
        "outputId": "b1c8b3a7-2d06-4a44-ef84-cc199e61d5a6",
        "colab": {
          "base_uri": "https://localhost:8080/"
        }
      },
      "source": [
        "'''\n",
        "Song-Feature Matrix:\n",
        "  Dimensions : (NoOfSongs,NoOfFeatures)\n",
        "  Later in the Algorithm we initial an songs_embedding layer with with this matrix\n",
        "'''\n",
        "#  Song - Feature Matrix : \n",
        "print(len(train['trackindex'].unique()), len(features))\n",
        "song_feature = []\n",
        "for trackindex in range(0,len(train['trackindex'].unique())):\n",
        "  rows = train.loc[train['trackindex'] == trackindex]\n",
        "  x=1\n",
        "  for index, row in rows.iterrows():\n",
        "    arr=[]\n",
        "    for feature in features :\n",
        "      arr.append(row[feature])\n",
        "    song_feature.append(arr)\n",
        "    if x==1: \n",
        "      break\n",
        "\n",
        "print(len(song_feature),len(song_feature[0]))\n",
        "y=np.array([np.array(xi) for xi in song_feature])\n",
        "print(y.shape)"
      ],
      "execution_count": 20,
      "outputs": [
        {
          "output_type": "stream",
          "text": [
            "93139 11\n",
            "93139 11\n",
            "(93139, 11)\n"
          ],
          "name": "stdout"
        }
      ]
    },
    {
      "cell_type": "code",
      "metadata": {
        "id": "jhLkKAOa5Qyl"
      },
      "source": [
        "'''\n",
        "In this function , \n",
        "      To generate training data we make use of the Dataframe directly passing the intermediate step of creating a sprase Matrix , which ensure \"Scalability\"\n",
        "      If the Playlist doesn't contain a song , we can't rule the possibility of song not being a part of Playlist . The creator of the Playlist might not have come-across the song itself. \n",
        "\n",
        "      We would like to consider some negative samples  \n",
        "      Reasons : \n",
        "        1. Considering all the negative samples is computationally heavy \n",
        "        2. Provide that both positive and neagtive samples to the model to enhance learning. \n",
        "''' \n",
        "\n",
        "def train_samples(train, num_negatives):\n",
        "    user_input = []\n",
        "    item_input = []\n",
        "    labels = []\n",
        "    num_playlists = len(traindata)\n",
        "    print(num_playlists)\n",
        "    # num_playlists = 1\n",
        "    num_items = len(train['trackindex'].unique())\n",
        "    for u in range(0,num_playlists):\n",
        "      rows = train.loc[train['pid'] == u]\n",
        "      songs_list = rows[\"trackindex\"].tolist()\n",
        "      # positive instance\n",
        "      for i in songs_list:\n",
        "        user_input.append(u)\n",
        "        item_input.append(i)\n",
        "        labels.append(1)\n",
        "      # negative instances\n",
        "      for t in range(num_negatives):\n",
        "          j = np.random.randint(num_items)\n",
        "          while j in songs_list:\n",
        "                j = np.random.randint(num_items)\n",
        "          user_input.append(u)\n",
        "          item_input.append(j)\n",
        "          labels.append(0)\n",
        "    return user_input, item_input, labels\n",
        "\n",
        "\n",
        "# user_input, item_input, labels = train_samples(train,num_negatives)\n",
        "# print(user_input[1:10])\n",
        "# print(item_input[1:10])\n",
        "# print(labels[1:10])\n"
      ],
      "execution_count": 22,
      "outputs": []
    },
    {
      "cell_type": "code",
      "metadata": {
        "id": "hvDBFSc3j-Fj",
        "outputId": "e57c09ae-d1b6-4a43-989b-7a0ea555508e",
        "colab": {
          "base_uri": "https://localhost:8080/"
        }
      },
      "source": [
        "#now building neural network\n",
        "import numpy as np\n",
        "import theano.tensor as T\n",
        "import keras\n",
        "from keras import backend as K\n",
        "from keras import initializers\n",
        "from keras.models import Sequential, Model, load_model, save_model\n",
        "from keras.layers.core import Dense, Lambda, Activation\n",
        "from keras.layers import Embedding, Input, Dense, Reshape, Flatten, Concatenate, concatenate, Multiply\n",
        "from keras.optimizers import Adam\n",
        "from keras.regularizers import l2\n",
        "from time import time\n",
        "import multiprocessing as mp\n",
        "import sys\n",
        "import math\n",
        "\n",
        "def init_normal(shape, name=None):\n",
        "    return initializers.normal(shape, scale=0.01, name=name)\n",
        "\n",
        "def get_model(num_users, num_items, latent_dim):\n",
        "\n",
        "    user_input = Input(shape=(1,), dtype='int32', name = 'user_input')\n",
        "    item_input = Input(shape=(1,), dtype='int32', name = 'item_input')\n",
        "\n",
        "    user_embedding = Embedding(input_dim = num_users, output_dim = latent_dim, name = 'user_embedding', input_length=1)\n",
        "    item_embedding = Embedding(input_dim = num_items, output_dim = latent_dim, name = 'item_embedding', input_length=6) \n",
        "    item_embedding.build(input_shape=(1,)) # the input_shape here has no effect in the build function\n",
        "    item_embedding.set_weights([y])  \n",
        "    \n",
        "    user_latent = Flatten()(user_embedding(user_input))\n",
        "    item_latent = Flatten()(item_embedding(item_input))\n",
        "    \n",
        "    predict_vector = Multiply()([user_latent, item_latent])\n",
        "    \n",
        "    prediction = Dense(1, activation='sigmoid', name = 'prediction')(predict_vector)\n",
        "    \n",
        "    model = Model([user_input, item_input], prediction)\n",
        "    return model\n",
        "\n",
        "# def train_samples(train, num_negatives):\n",
        "#     user_input = []\n",
        "#     item_input = []\n",
        "#     labels = []\n",
        "#     num_users = train.shape[0]\n",
        "#     for (u, i) in train.keys():\n",
        "#         # positive instance\n",
        "#         user_input.append(u)\n",
        "#         item_input.append(i)\n",
        "#         labels.append(1)\n",
        "#         # negative instances\n",
        "#         for t in range(num_negatives):\n",
        "#             j = np.random.randint(num_items)\n",
        "#             while (u,j) in train.keys():\n",
        "#                 j = np.random.randint(num_items)\n",
        "#             user_input.append(u)\n",
        "#             item_input.append(j)\n",
        "#             labels.append(0)\n",
        "#     return user_input, item_input, labels\n",
        "\n",
        "\n",
        "num_factors = len(features)\n",
        "num_negatives = 100\n",
        "learner = 'adam'\n",
        "learning_rate = 0.001\n",
        "epochs = 3\n",
        "batch_size = 200\n",
        "verbose = 1\n",
        "\n",
        "    \n",
        "# Loading data output\n",
        "num_users, num_items = len(traindata) , len(train['trackindex'].unique()) \n",
        "print(\"Loaded\")\n",
        "\n",
        "# Build model\n",
        "model = get_model(num_users, num_items, num_factors)\n",
        "model.compile(optimizer=Adam(lr=learning_rate), loss='binary_crossentropy', metrics=['accuracy'])\n",
        "print(model.summary())\n",
        "\n",
        "\n",
        "print(\"Training\")\n",
        "for epoch in range(epochs):\n",
        "    user_input, item_input, labels = train_samples(train,num_negatives)\n",
        "    print(user_input[0],item_input[0]) \n",
        "    # Training\n",
        "    hist = model.fit([np.array(user_input), np.array(item_input)], np.array(labels), validation_split=0.20, batch_size=batch_size, epochs=1, verbose=0, shuffle=True)\n",
        "    print(hist.history)\n",
        "\n"
      ],
      "execution_count": 23,
      "outputs": [
        {
          "output_type": "stream",
          "text": [
            "Loaded\n",
            "Model: \"functional_1\"\n",
            "__________________________________________________________________________________________________\n",
            "Layer (type)                    Output Shape         Param #     Connected to                     \n",
            "==================================================================================================\n",
            "user_input (InputLayer)         [(None, 1)]          0                                            \n",
            "__________________________________________________________________________________________________\n",
            "item_input (InputLayer)         [(None, 1)]          0                                            \n",
            "__________________________________________________________________________________________________\n",
            "user_embedding (Embedding)      (None, 1, 11)        44000       user_input[0][0]                 \n",
            "__________________________________________________________________________________________________\n",
            "item_embedding (Embedding)      (None, 1, 11)        1024529     item_input[0][0]                 \n",
            "__________________________________________________________________________________________________\n",
            "flatten (Flatten)               (None, 11)           0           user_embedding[0][0]             \n",
            "__________________________________________________________________________________________________\n",
            "flatten_1 (Flatten)             (None, 11)           0           item_embedding[0][0]             \n",
            "__________________________________________________________________________________________________\n",
            "multiply (Multiply)             (None, 11)           0           flatten[0][0]                    \n",
            "                                                                 flatten_1[0][0]                  \n",
            "__________________________________________________________________________________________________\n",
            "prediction (Dense)              (None, 1)            12          multiply[0][0]                   \n",
            "==================================================================================================\n",
            "Total params: 1,068,541\n",
            "Trainable params: 1,068,541\n",
            "Non-trainable params: 0\n",
            "__________________________________________________________________________________________________\n",
            "None\n",
            "Training\n",
            "4000\n",
            "0 6012\n",
            "{'loss': [0.5982933044433594], 'accuracy': [0.6803818345069885], 'val_loss': [0.6892260909080505], 'val_accuracy': [0.5520791411399841]}\n",
            "4000\n",
            "0 6012\n",
            "{'loss': [0.42852285504341125], 'accuracy': [0.8083521723747253], 'val_loss': [0.6802695989608765], 'val_accuracy': [0.5809586048126221]}\n",
            "4000\n",
            "0 6012\n",
            "{'loss': [0.3407023549079895], 'accuracy': [0.8517523407936096], 'val_loss': [0.6804214715957642], 'val_accuracy': [0.5853554010391235]}\n"
          ],
          "name": "stdout"
        }
      ]
    },
    {
      "cell_type": "code",
      "metadata": {
        "id": "XyoLMBdZEA5c",
        "outputId": "b947fd0f-7374-4ca9-cfa1-10d9abc7dd31",
        "colab": {
          "base_uri": "https://localhost:8080/"
        }
      },
      "source": [
        "weights = model.get_weights()\n",
        "print(weights)"
      ],
      "execution_count": 24,
      "outputs": [
        {
          "output_type": "stream",
          "text": [
            "[array([[-0.00947232,  0.79815215,  0.27487305, ...,  0.2602465 ,\n",
            "        -0.0651174 ,  0.74764806],\n",
            "       [-0.21669593, -0.0540654 , -0.04419631, ...,  0.3151599 ,\n",
            "        -0.13440458,  0.42042267],\n",
            "       [ 0.18234152,  0.38664117,  0.27067968, ..., -0.02482796,\n",
            "        -0.02914313, -0.28906953],\n",
            "       ...,\n",
            "       [-0.04859766, -0.02449691,  0.014025  , ..., -0.03608917,\n",
            "        -0.01798933, -0.03930283],\n",
            "       [ 0.03038407, -0.04219611, -0.0213288 , ...,  0.04777521,\n",
            "         0.02990248,  0.03421948],\n",
            "       [ 0.01647789,  0.04712541,  0.04272785, ..., -0.01310073,\n",
            "        -0.02733111,  0.01595142]], dtype=float32), array([[  0.41927567,   0.17939901,  -4.2530165 , ...,   0.36705124,\n",
            "          7.0356684 ,   0.06252268],\n",
            "       [  0.24517705,   0.12820391,  -8.462692  , ...,   0.2210637 ,\n",
            "         10.050372  ,   0.13571092],\n",
            "       [  1.1360853 ,  -0.32195488,  -6.030635  , ...,  -0.14885283,\n",
            "          6.9335613 ,  -0.0264663 ],\n",
            "       ...,\n",
            "       [  0.71312   ,   0.7941698 ,  -5.921313  , ...,   0.11757436,\n",
            "          6.9857526 ,   0.11596234],\n",
            "       [  0.6509527 ,   0.01841003,  -6.849154  , ...,   0.10662994,\n",
            "          9.098826  ,   0.69794977],\n",
            "       [  0.756092  ,   1.0994586 , -10.300596  , ...,   0.2243387 ,\n",
            "          7.9861984 ,   0.7312293 ]], dtype=float32), array([[ 2.870277  ],\n",
            "       [-7.1280675 ],\n",
            "       [ 0.6678465 ],\n",
            "       [-7.7116313 ],\n",
            "       [-4.6301036 ],\n",
            "       [-4.0681834 ],\n",
            "       [-2.9795556 ],\n",
            "       [ 0.01712769],\n",
            "       [-5.673908  ],\n",
            "       [ 0.06164365],\n",
            "       [-6.162423  ]], dtype=float32), array([-0.3689721], dtype=float32)]\n"
          ],
          "name": "stdout"
        }
      ]
    },
    {
      "cell_type": "code",
      "metadata": {
        "id": "Y9UGmIurISxM"
      },
      "source": [
        "import pickle\n",
        "import os \n",
        "os.chdir('/content/drive/My Drive/MusicRecommendationSystem')\n",
        "with open('weights4kwithfeatures.pickle', 'wb') as f:\n",
        "    pickle.dump(weights,f)"
      ],
      "execution_count": 25,
      "outputs": []
    },
    {
      "cell_type": "code",
      "metadata": {
        "id": "5vQLxT5EJuVo",
        "outputId": "c4166404-2a26-4cfc-e2dc-9f4df710108d",
        "colab": {
          "base_uri": "https://localhost:8080/"
        }
      },
      "source": [
        "import os \n",
        "import pickle\n",
        "os.chdir('/content/drive/My Drive/MusicRecommendationSystem')\n",
        "with open('weights4kwithfeatures.pickle', 'rb') as f:\n",
        "    model_weights = pickle.load(f)\n",
        "\n",
        "playlist_matrix = model_weights[0]\n",
        "print(playlist_matrix.shape)\n",
        "songs_matrix = model_weights[1]\n",
        "print(songs_matrix.shape)"
      ],
      "execution_count": 26,
      "outputs": [
        {
          "output_type": "stream",
          "text": [
            "(4000, 11)\n",
            "(93139, 11)\n"
          ],
          "name": "stdout"
        }
      ]
    },
    {
      "cell_type": "code",
      "metadata": {
        "id": "sN6f6SaQLRqU"
      },
      "source": [
        "'''\n",
        "The speciality of these vectors is that the Embedding vectors are learnt from model and the cosine similarity is used to fing similar songs \n",
        "'''\n",
        "def cosine_similarity(word_vectors,track_id,n):\n",
        "  cosine_dict = {}\n",
        "  word_list = []\n",
        "  index = track_id -1 \n",
        "  target = word_vectors[index,:]\n",
        "  for i in range(0,word_vectors.shape[0]):\n",
        "    curr = word_vectors[i]\n",
        "    cos_sim = np.dot(curr,target)/(np.linalg.norm(curr)*np.linalg.norm(target))\n",
        "    cosine_dict[i]=cos_sim\n",
        "  dist_sort=sorted(cosine_dict.items(), key=lambda dist: dist[1],reverse = True)\n",
        "  for item in dist_sort:\n",
        "    word_list.append((item[0]+1,item[1]))\n",
        "  return word_list[0:n]"
      ],
      "execution_count": 27,
      "outputs": []
    },
    {
      "cell_type": "code",
      "metadata": {
        "id": "neE7HCQwLIJI",
        "outputId": "454555c7-c849-4780-9a93-ad9011e07c90",
        "colab": {
          "base_uri": "https://localhost:8080/"
        }
      },
      "source": [
        "get = cosine_similarity(songs_matrix,6012,10)\n",
        "print(get)"
      ],
      "execution_count": 28,
      "outputs": [
        {
          "output_type": "stream",
          "text": [
            "[(6012, 1.0), (42358, 0.99999446), (18708, 0.99999315), (36257, 0.99999076), (24395, 0.9999904), (57412, 0.9999902), (48988, 0.99999005), (6592, 0.99998933), (8873, 0.99998826), (55796, 0.999988)]\n"
          ],
          "name": "stdout"
        }
      ]
    },
    {
      "cell_type": "code",
      "metadata": {
        "id": "7K2uyTjy_CpP",
        "outputId": "2d773121-b2b4-4bd1-939e-0ee4d767af75",
        "colab": {
          "base_uri": "https://localhost:8080/"
        }
      },
      "source": [
        "for track in get : \n",
        "  rows = train.loc[train['trackindex'] == track[0]]\n",
        "  song_name = rows['track_name'].tolist()\n",
        "  print(track[0],song_name[0])"
      ],
      "execution_count": 32,
      "outputs": [
        {
          "output_type": "stream",
          "text": [
            "6012 Lose Control (feat. Ciara & Fat Man Scoop)\n",
            "42358 Hold Me Up - AM2PM Remix\n",
            "18708 Free / Into The Mystic - Live From Bonnaroo\n",
            "36257 Concrete Jungle\n",
            "24395 Everybody (feat. Jim Jones)\n",
            "57412 In Check\n",
            "48988 Stand And Deliver\n",
            "6592 Breakin' Stuff\n",
            "8873 Already Home\n",
            "55796 Mitwa\n"
          ],
          "name": "stdout"
        }
      ]
    },
    {
      "cell_type": "code",
      "metadata": {
        "id": "W7L6hte3dVSG"
      },
      "source": [
        "'''\n",
        "Adavantages of this model:\n",
        "  1.Paramets are trained in neural model so the Performance only gets better with increase in data\n",
        "  2.Model can be pre-Trained .While making predictions we are making use only the weight matrix \n",
        "  3.Ease in adding Optimization layers\n",
        "\n",
        "Future Work :\n",
        "  1.Define heuristics to obtain the closes possible Playlist\n",
        "  2.Apply Optimizations \n",
        "\n",
        "\n",
        "Suggestions : \n",
        "  Embedding layer -> artits name include all the feaatures \n",
        "      representation of artists \n",
        "      search based in artists \n",
        "      find the balance ; accarcy and speed trade-off \n",
        "  giving a paragraph -> convert into representation \n",
        "  try differnt things and finf the weights and measure\n",
        "  diverse input and \n",
        "  Tabulate findings \n",
        "  Edge-cases \n",
        "  include analysis ** with parametrs too \n",
        "  Emperical way of measuring the playlist \n",
        "  change parameters on model \n",
        "  Make sure it's fast enough\n",
        "  different inputs - artistsnames \n",
        "\n",
        "'''"
      ],
      "execution_count": null,
      "outputs": []
    },
    {
      "cell_type": "code",
      "metadata": {
        "id": "LdvJ6W_B4qXJ"
      },
      "source": [
        "from keras.layers.core import Dense, Lambda, Activation\n",
        "from keras.layers import Embedding, Input, Dense, Reshape, Flatten, Concatenate, concatenate, Multiply\n",
        "import numpy as np \n",
        "def Dense_layer(word_vectors,track_id,n,dense_weights):\n",
        "  cosine_dict = {}\n",
        "  word_list = []\n",
        "  index = track_id -1 \n",
        "  target = word_vectors[index,:]\n",
        "  for i in range(0,word_vectors.shape[0]):\n",
        "    curr = word_vectors[i]\n",
        "    predict_vector = Multiply()([target,curr])\n",
        "    predict_vector = np.array(predict_vector).reshape((1,len(predict_vector)))\n",
        "    prediction = np.dot(predict_vector,dense_weights)\n",
        "    cosine_dict[i]=prediction\n",
        "  dist_sort=sorted(cosine_dict.items(), key=lambda dist: dist[1],reverse = True)\n",
        "  for item in dist_sort:\n",
        "    word_list.append((item[0]+1,item[1]))\n",
        "  return word_list[0:n]"
      ],
      "execution_count": null,
      "outputs": []
    },
    {
      "cell_type": "code",
      "metadata": {
        "id": "jcoTd4Zk5ujX",
        "outputId": "bdb2598f-1a21-4c7b-9264-99ed03192547",
        "colab": {
          "base_uri": "https://localhost:8080/"
        }
      },
      "source": [
        "dense_weights  = model_weights[2]\n",
        "get = Dense_layer(songs_matrix,6012,10,dense_weights)\n",
        "print(get)"
      ],
      "execution_count": null,
      "outputs": [
        {
          "output_type": "stream",
          "text": [
            "[(90662, array([[566.2419]], dtype=float32)), (12191, array([[565.91956]], dtype=float32)), (61273, array([[565.77893]], dtype=float32)), (9356, array([[564.87787]], dtype=float32)), (36091, array([[563.8778]], dtype=float32)), (670, array([[563.7588]], dtype=float32)), (78780, array([[562.72675]], dtype=float32)), (20112, array([[561.359]], dtype=float32)), (90001, array([[374.70786]], dtype=float32)), (37190, array([[372.48254]], dtype=float32))]\n"
          ],
          "name": "stdout"
        }
      ]
    },
    {
      "cell_type": "code",
      "metadata": {
        "id": "VSbP5RldESYm",
        "outputId": "6cbe13e8-dbe4-4147-c4cf-c416b940c975",
        "colab": {
          "base_uri": "https://localhost:8080/",
          "height": 208
        }
      },
      "source": [
        "for i in range(0,11):\n",
        "  print(get[len(get)-1-i])"
      ],
      "execution_count": null,
      "outputs": [
        {
          "output_type": "stream",
          "text": [
            "(52656, array([[-6.7347198]], dtype=float32))\n",
            "(627, array([[-6.6885653]], dtype=float32))\n",
            "(53561, array([[-6.6815476]], dtype=float32))\n",
            "(20284, array([[-6.6702576]], dtype=float32))\n",
            "(77820, array([[-6.669116]], dtype=float32))\n",
            "(35584, array([[-6.6628876]], dtype=float32))\n",
            "(77269, array([[-6.6613035]], dtype=float32))\n",
            "(47770, array([[-6.654142]], dtype=float32))\n",
            "(41207, array([[-6.652204]], dtype=float32))\n",
            "(65439, array([[-6.6491413]], dtype=float32))\n",
            "(34107, array([[-6.6453114]], dtype=float32))\n"
          ],
          "name": "stdout"
        }
      ]
    },
    {
      "cell_type": "code",
      "metadata": {
        "id": "iSnFX2gMCm_o"
      },
      "source": [
        ""
      ],
      "execution_count": null,
      "outputs": []
    }
  ]
}