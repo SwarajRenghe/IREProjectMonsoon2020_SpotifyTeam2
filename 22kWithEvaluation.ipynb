{
  "nbformat": 4,
  "nbformat_minor": 0,
  "metadata": {
    "colab": {
      "name": "Evaluation-Lalitha.ipynb",
      "provenance": []
    },
    "kernelspec": {
      "name": "python3",
      "display_name": "Python 3"
    }
  },
  "cells": [
    {
      "cell_type": "code",
      "metadata": {
        "id": "178j8_SapQ--",
        "outputId": "2f525733-1389-40ff-8719-d48663acd443",
        "colab": {
          "base_uri": "https://localhost:8080/",
          "height": 34
        }
      },
      "source": [
        "%autosave 5"
      ],
      "execution_count": 1,
      "outputs": [
        {
          "output_type": "display_data",
          "data": {
            "application/javascript": [
              "IPython.notebook.set_autosave_interval(5000)"
            ]
          },
          "metadata": {
            "tags": []
          }
        },
        {
          "output_type": "stream",
          "text": [
            "Autosaving every 5 seconds\n"
          ],
          "name": "stdout"
        }
      ]
    },
    {
      "cell_type": "code",
      "metadata": {
        "id": "1VOvhPtPaA36",
        "outputId": "eabd82e3-f796-4b9c-a2bc-8eed4985c83e",
        "colab": {
          "base_uri": "https://localhost:8080/"
        }
      },
      "source": [
        "from google.colab import drive\n",
        "drive.mount(\"/content/drive\", force_remount=True)"
      ],
      "execution_count": 2,
      "outputs": [
        {
          "output_type": "stream",
          "text": [
            "Mounted at /content/drive\n"
          ],
          "name": "stdout"
        }
      ]
    },
    {
      "cell_type": "code",
      "metadata": {
        "id": "5vQLxT5EJuVo",
        "outputId": "85ed4d89-6958-4ff0-8e9c-01038b479066",
        "colab": {
          "base_uri": "https://localhost:8080/"
        }
      },
      "source": [
        "import os \n",
        "import pickle\n",
        "os.chdir('/content/drive/My Drive/MusicRecommendationSystem/Lalitha-Evaluation-1')\n",
        "!ls\n",
        "with open('weights22kwithfeatures.pickle', 'rb') as f:\n",
        "    model_weights = pickle.load(f)\n",
        "\n",
        "playlist_matrix = model_weights[0]\n",
        "print(playlist_matrix.shape)\n",
        "songs_matrix = model_weights[1]\n",
        "print(songs_matrix.shape)"
      ],
      "execution_count": 3,
      "outputs": [
        {
          "output_type": "stream",
          "text": [
            "22kPlaylist+features+songindex+artistindex.csv\tEvaluation-Lalitha.ipynb\n",
            "Artists-weights22kwithfeatures.pickle\t\tweights22kwithfeatures.pickle\n",
            "(22740, 11)\n",
            "(289796, 11)\n"
          ],
          "name": "stdout"
        }
      ]
    },
    {
      "cell_type": "code",
      "metadata": {
        "id": "7goAyOhYpyoY",
        "outputId": "fdc3ab31-2a96-4512-cf5c-b9ac46c637c6",
        "colab": {
          "base_uri": "https://localhost:8080/"
        }
      },
      "source": [
        "''' Example code '''\n",
        "import numpy as np\n",
        "m = np.array([[1,2,3],[4,5,6],[7,8,9]])\n",
        "c = np.array([0,1,2])\n",
        "print(m * c[:, np.newaxis])"
      ],
      "execution_count": 4,
      "outputs": [
        {
          "output_type": "stream",
          "text": [
            "[[ 0  0  0]\n",
            " [ 4  5  6]\n",
            " [14 16 18]]\n"
          ],
          "name": "stdout"
        }
      ]
    },
    {
      "cell_type": "code",
      "metadata": {
        "id": "Q1921jbjrH-t"
      },
      "source": [
        "''' Weighting each feature \n",
        " 11 features : features = ['Danceability','Instrumentalness','Loudness','Speechiness','Valence','Energy','Mode','Tempo','Livenss','Key','Acousticness'] '''\n",
        "weights=[0.75, 2, 2, 1, 1, 0.5, 0.05, 1, 0.5, 0.5, 0.75] \n",
        "songs_matrix_weighted = songs_matrix * weights[:np.newaxis]"
      ],
      "execution_count": 5,
      "outputs": []
    },
    {
      "cell_type": "code",
      "metadata": {
        "id": "sN6f6SaQLRqU"
      },
      "source": [
        "def cosine_similarity(word_vectors,track_id,n):\n",
        "  cosine_dict = {}\n",
        "  word_list = []\n",
        "  index = track_id -1 \n",
        "  target = word_vectors[index,:]\n",
        "  for i in range(0,word_vectors.shape[0]):\n",
        "    curr = word_vectors[i]\n",
        "    cos_sim = np.dot(curr,target)/(np.linalg.norm(curr)*np.linalg.norm(target))\n",
        "    cosine_dict[i]=cos_sim\n",
        "  dist_sort=sorted(cosine_dict.items(), key=lambda dist: dist[1],reverse = True)\n",
        "  for item in dist_sort:\n",
        "    word_list.append((item[0]+1,item[1]))\n",
        "  return word_list[0:n]"
      ],
      "execution_count": 6,
      "outputs": []
    },
    {
      "cell_type": "code",
      "metadata": {
        "id": "neE7HCQwLIJI",
        "outputId": "93defe8d-72d8-4af1-8b00-7c809917e2b1",
        "colab": {
          "base_uri": "https://localhost:8080/",
          "height": 350
        }
      },
      "source": [
        "import pandas as pd\n",
        "pd.set_option('display.max_columns', None)\n",
        "train = pd.read_csv('22kPlaylist+features+songindex+artistindex.csv')\n",
        "train.head()\n"
      ],
      "execution_count": 7,
      "outputs": [
        {
          "output_type": "execute_result",
          "data": {
            "text/html": [
              "<div>\n",
              "<style scoped>\n",
              "    .dataframe tbody tr th:only-of-type {\n",
              "        vertical-align: middle;\n",
              "    }\n",
              "\n",
              "    .dataframe tbody tr th {\n",
              "        vertical-align: top;\n",
              "    }\n",
              "\n",
              "    .dataframe thead th {\n",
              "        text-align: right;\n",
              "    }\n",
              "</style>\n",
              "<table border=\"1\" class=\"dataframe\">\n",
              "  <thead>\n",
              "    <tr style=\"text-align: right;\">\n",
              "      <th></th>\n",
              "      <th>Unnamed: 0</th>\n",
              "      <th>Unnamed: 0.1</th>\n",
              "      <th>Unnamed: 0.1.1</th>\n",
              "      <th>Unnamed: 0.1.1.1</th>\n",
              "      <th>trackid</th>\n",
              "      <th>artist_name</th>\n",
              "      <th>track_name</th>\n",
              "      <th>duration_ms</th>\n",
              "      <th>album_name</th>\n",
              "      <th>pid</th>\n",
              "      <th>Danceability</th>\n",
              "      <th>Instrumentalness</th>\n",
              "      <th>Loudness</th>\n",
              "      <th>Speechiness</th>\n",
              "      <th>Valence</th>\n",
              "      <th>Energy</th>\n",
              "      <th>Mode</th>\n",
              "      <th>Tempo</th>\n",
              "      <th>Livenss</th>\n",
              "      <th>Key</th>\n",
              "      <th>Acousticness</th>\n",
              "      <th>Unnamed: 0.1.1.1.1</th>\n",
              "      <th>trackindex</th>\n",
              "      <th>artistindex</th>\n",
              "    </tr>\n",
              "  </thead>\n",
              "  <tbody>\n",
              "    <tr>\n",
              "      <th>0</th>\n",
              "      <td>0</td>\n",
              "      <td>0</td>\n",
              "      <td>0</td>\n",
              "      <td>0</td>\n",
              "      <td>spotify:track:0UaMYEvWZi0ZqiDOoHU3YI</td>\n",
              "      <td>Missy Elliott</td>\n",
              "      <td>Lose Control (feat. Ciara &amp; Fat Man Scoop)</td>\n",
              "      <td>226863</td>\n",
              "      <td>The Cookbook</td>\n",
              "      <td>0</td>\n",
              "      <td>0.904</td>\n",
              "      <td>0.006970</td>\n",
              "      <td>-7.105</td>\n",
              "      <td>0.1210</td>\n",
              "      <td>0.810</td>\n",
              "      <td>0.813</td>\n",
              "      <td>0</td>\n",
              "      <td>125.461</td>\n",
              "      <td>0.0471</td>\n",
              "      <td>4</td>\n",
              "      <td>0.03110</td>\n",
              "      <td>NaN</td>\n",
              "      <td>18621</td>\n",
              "      <td>32614</td>\n",
              "    </tr>\n",
              "    <tr>\n",
              "      <th>1</th>\n",
              "      <td>1</td>\n",
              "      <td>1</td>\n",
              "      <td>1</td>\n",
              "      <td>1</td>\n",
              "      <td>spotify:track:6I9VzXrHxO9rA9A5euc8Ak</td>\n",
              "      <td>Britney Spears</td>\n",
              "      <td>Toxic</td>\n",
              "      <td>198800</td>\n",
              "      <td>In The Zone</td>\n",
              "      <td>0</td>\n",
              "      <td>0.774</td>\n",
              "      <td>0.025000</td>\n",
              "      <td>-3.914</td>\n",
              "      <td>0.1140</td>\n",
              "      <td>0.924</td>\n",
              "      <td>0.838</td>\n",
              "      <td>0</td>\n",
              "      <td>143.040</td>\n",
              "      <td>0.2420</td>\n",
              "      <td>5</td>\n",
              "      <td>0.02490</td>\n",
              "      <td>NaN</td>\n",
              "      <td>234387</td>\n",
              "      <td>6668</td>\n",
              "    </tr>\n",
              "    <tr>\n",
              "      <th>2</th>\n",
              "      <td>2</td>\n",
              "      <td>2</td>\n",
              "      <td>2</td>\n",
              "      <td>2</td>\n",
              "      <td>spotify:track:0WqIKmW4BTrj3eJFmnCKMv</td>\n",
              "      <td>Beyoncé</td>\n",
              "      <td>Crazy In Love</td>\n",
              "      <td>235933</td>\n",
              "      <td>Dangerously In Love (Alben für die Ewigkeit)</td>\n",
              "      <td>0</td>\n",
              "      <td>0.664</td>\n",
              "      <td>0.000000</td>\n",
              "      <td>-6.583</td>\n",
              "      <td>0.2100</td>\n",
              "      <td>0.701</td>\n",
              "      <td>0.758</td>\n",
              "      <td>0</td>\n",
              "      <td>99.259</td>\n",
              "      <td>0.0598</td>\n",
              "      <td>2</td>\n",
              "      <td>0.00238</td>\n",
              "      <td>NaN</td>\n",
              "      <td>19991</td>\n",
              "      <td>5065</td>\n",
              "    </tr>\n",
              "    <tr>\n",
              "      <th>3</th>\n",
              "      <td>3</td>\n",
              "      <td>3</td>\n",
              "      <td>3</td>\n",
              "      <td>3</td>\n",
              "      <td>spotify:track:1AWQoqb9bSvzTjaLralEkT</td>\n",
              "      <td>Justin Timberlake</td>\n",
              "      <td>Rock Your Body</td>\n",
              "      <td>267266</td>\n",
              "      <td>Justified</td>\n",
              "      <td>0</td>\n",
              "      <td>0.891</td>\n",
              "      <td>0.000234</td>\n",
              "      <td>-6.055</td>\n",
              "      <td>0.1400</td>\n",
              "      <td>0.818</td>\n",
              "      <td>0.714</td>\n",
              "      <td>0</td>\n",
              "      <td>100.972</td>\n",
              "      <td>0.0521</td>\n",
              "      <td>4</td>\n",
              "      <td>0.20200</td>\n",
              "      <td>NaN</td>\n",
              "      <td>43850</td>\n",
              "      <td>24706</td>\n",
              "    </tr>\n",
              "    <tr>\n",
              "      <th>4</th>\n",
              "      <td>4</td>\n",
              "      <td>4</td>\n",
              "      <td>4</td>\n",
              "      <td>4</td>\n",
              "      <td>spotify:track:1lzr43nnXAijIGYnCT8M8H</td>\n",
              "      <td>Shaggy</td>\n",
              "      <td>It Wasn't Me</td>\n",
              "      <td>227600</td>\n",
              "      <td>Hot Shot</td>\n",
              "      <td>0</td>\n",
              "      <td>0.853</td>\n",
              "      <td>0.000000</td>\n",
              "      <td>-4.596</td>\n",
              "      <td>0.0713</td>\n",
              "      <td>0.654</td>\n",
              "      <td>0.606</td>\n",
              "      <td>1</td>\n",
              "      <td>94.759</td>\n",
              "      <td>0.3130</td>\n",
              "      <td>0</td>\n",
              "      <td>0.05610</td>\n",
              "      <td>NaN</td>\n",
              "      <td>66278</td>\n",
              "      <td>41903</td>\n",
              "    </tr>\n",
              "  </tbody>\n",
              "</table>\n",
              "</div>"
            ],
            "text/plain": [
              "   Unnamed: 0  Unnamed: 0.1  Unnamed: 0.1.1  Unnamed: 0.1.1.1  \\\n",
              "0           0             0               0                 0   \n",
              "1           1             1               1                 1   \n",
              "2           2             2               2                 2   \n",
              "3           3             3               3                 3   \n",
              "4           4             4               4                 4   \n",
              "\n",
              "                                trackid        artist_name  \\\n",
              "0  spotify:track:0UaMYEvWZi0ZqiDOoHU3YI      Missy Elliott   \n",
              "1  spotify:track:6I9VzXrHxO9rA9A5euc8Ak     Britney Spears   \n",
              "2  spotify:track:0WqIKmW4BTrj3eJFmnCKMv            Beyoncé   \n",
              "3  spotify:track:1AWQoqb9bSvzTjaLralEkT  Justin Timberlake   \n",
              "4  spotify:track:1lzr43nnXAijIGYnCT8M8H             Shaggy   \n",
              "\n",
              "                                   track_name  duration_ms  \\\n",
              "0  Lose Control (feat. Ciara & Fat Man Scoop)       226863   \n",
              "1                                       Toxic       198800   \n",
              "2                               Crazy In Love       235933   \n",
              "3                              Rock Your Body       267266   \n",
              "4                                It Wasn't Me       227600   \n",
              "\n",
              "                                     album_name  pid  Danceability  \\\n",
              "0                                  The Cookbook    0         0.904   \n",
              "1                                   In The Zone    0         0.774   \n",
              "2  Dangerously In Love (Alben für die Ewigkeit)    0         0.664   \n",
              "3                                     Justified    0         0.891   \n",
              "4                                      Hot Shot    0         0.853   \n",
              "\n",
              "   Instrumentalness  Loudness  Speechiness  Valence  Energy  Mode    Tempo  \\\n",
              "0          0.006970    -7.105       0.1210    0.810   0.813     0  125.461   \n",
              "1          0.025000    -3.914       0.1140    0.924   0.838     0  143.040   \n",
              "2          0.000000    -6.583       0.2100    0.701   0.758     0   99.259   \n",
              "3          0.000234    -6.055       0.1400    0.818   0.714     0  100.972   \n",
              "4          0.000000    -4.596       0.0713    0.654   0.606     1   94.759   \n",
              "\n",
              "   Livenss  Key  Acousticness  Unnamed: 0.1.1.1.1  trackindex  artistindex  \n",
              "0   0.0471    4       0.03110                 NaN       18621        32614  \n",
              "1   0.2420    5       0.02490                 NaN      234387         6668  \n",
              "2   0.0598    2       0.00238                 NaN       19991         5065  \n",
              "3   0.0521    4       0.20200                 NaN       43850        24706  \n",
              "4   0.3130    0       0.05610                 NaN       66278        41903  "
            ]
          },
          "metadata": {
            "tags": []
          },
          "execution_count": 7
        }
      ]
    },
    {
      "cell_type": "code",
      "metadata": {
        "id": "1hL9CSrWegsY",
        "outputId": "1e86e4a4-7b91-4b2d-84a4-1aa71ad86f02",
        "colab": {
          "base_uri": "https://localhost:8080/"
        }
      },
      "source": [
        "input_song_names  = ['Agar Tum Saath Ho', 'Humse Pyaar Kar Le Tu']\n",
        "song_ids = []\n",
        "for song_name in input_song_names:\n",
        "  rows = train.loc[train['track_name'] == song_name]\n",
        "  try:\n",
        "    song_id = rows['trackindex'].to_list()[0]\n",
        "    song_ids.append(song_id)\n",
        "  except:\n",
        "    song_id = -1\n",
        "  print(song_id)\n",
        "\n",
        "print(song_ids) \n",
        "similar_song_ids = []\n",
        "rec_ids = set()\n",
        "for input_id in song_ids:\n",
        "  print(input_id)\n",
        "  get = cosine_similarity(songs_matrix_weighted,input_id,5)\n",
        "  for rec_id in get:\n",
        "    if rec_id not in rec_ids:\n",
        "      rec_ids.add(rec_id)\n",
        "      temp = []\n",
        "      temp.append(rec_id[1])\n",
        "      temp.append(rec_id[0])  \n",
        "      temp.append(input_id)\n",
        "      if temp[1] != temp[2]: #input song and recommended song shouldn't be the same\n",
        "        similar_song_ids.append(temp)\n",
        "similar_song_ids.sort()\n",
        "print(similar_song_ids)"
      ],
      "execution_count": 8,
      "outputs": [
        {
          "output_type": "stream",
          "text": [
            "284753\n",
            "152174\n",
            "[284753, 152174]\n",
            "284753\n",
            "152174\n",
            "[[0.9999822162055388, 281047, 284753], [0.9999823001514998, 12723, 284753], [0.9999828550635272, 22542, 284753], [0.9999861205798697, 144668, 284753], [0.9999881892154778, 185024, 152174], [0.9999886694435173, 161476, 152174], [0.9999890121535538, 4403, 152174], [0.9999928139524604, 131751, 152174]]\n"
          ],
          "name": "stdout"
        }
      ]
    },
    {
      "cell_type": "code",
      "metadata": {
        "id": "fjRIekO1soCt",
        "outputId": "7f86676b-4693-4915-c0e9-2d2a82b51db2",
        "colab": {
          "base_uri": "https://localhost:8080/"
        }
      },
      "source": [
        "most_popular = ['HUMBLE', 'One Dance', 'Closer', 'Broccoli ft. Lil Yatchy', 'Congratulations', 'Bad and Boujee', 'Caroline', 'Bounce Back', 'Location', 'Mask Off', 'Despacito - Remix', \"I'm the One\", 'Toxic', 'Crazy In Love', 'Rock Your Body', \"It Wasn't Me\", 'Yeah!', 'My Boo', 'Buttons', 'Say My Name', 'Hey Ya! - Radio Mix / Club Mix']\n",
        "output_list_1 = []\n",
        "for track in similar_song_ids:\n",
        "  inp_rows = train.loc[train['trackindex'] == track[2]]\n",
        "  inp_song  = inp_rows['track_name'].tolist()[0]\n",
        "  rows = train.loc[train['trackindex'] == track[1]]\n",
        "  song_name = rows['track_name'].tolist()\n",
        "  print(song_name[0])\n",
        "  output_list_1.append(song_name[0])\n",
        "if len(similar_song_ids) == 0:\n",
        "  for song in most_popular:\n",
        "    print(song)\n",
        "    output_list_1.append(song)"
      ],
      "execution_count": 9,
      "outputs": [
        {
          "output_type": "stream",
          "text": [
            "Awuthule Kancane?\n",
            "My Buddy\n",
            "I Can't Help But Wonder Where I'm Bound\n",
            "La Cosquillita\n",
            "Mandinga - Live\n",
            "The Zebrah\n",
            "What Part of No\n",
            "River Below\n"
          ],
          "name": "stdout"
        }
      ]
    },
    {
      "cell_type": "code",
      "metadata": {
        "id": "Qn8zPFUBjHPd",
        "outputId": "12db55c5-0494-4fc5-c540-998f3d1e1958",
        "colab": {
          "base_uri": "https://localhost:8080/"
        }
      },
      "source": [
        "for track in similar_song_ids:\n",
        "  inp_rows = train.loc[train['trackindex'] == track[2]]\n",
        "  rec_rows = train.loc[train['trackindex'] == track[1]]\n",
        "  # print(inp_rows.columns)\n",
        "  req_cols = ['artist_name', 'album_name', 'track_name', 'Danceability', 'Instrumentalness', 'Loudness', 'Speechiness',\n",
        "       'Valence', 'Energy', 'Mode', 'Tempo', 'Livenss', 'Key', 'Acousticness',]\n",
        "  inp_features = inp_rows[req_cols].values.tolist()[0]\n",
        "  rec_features = rec_rows[req_cols].values.tolist()[0]\n",
        "  for i in range(0, len(inp_features)):\n",
        "    print(str(req_cols[i])+\"\\t\"+str(inp_features[i])+\"\\t\"+str(rec_features[i]))\n",
        "  \n",
        "  print(\"\\n\")"
      ],
      "execution_count": 10,
      "outputs": [
        {
          "output_type": "stream",
          "text": [
            "artist_name\tProkumar & Arijit Singh & Alka Yagnik\tMahlathini & The Mahotella Queens\n",
            "album_name\tIn the Sky\tParis-Soweto\n",
            "track_name\tAgar Tum Saath Ho\tAwuthule Kancane?\n",
            "Danceability\t0.557\t0.8320000000000001\n",
            "Instrumentalness\t0.000379\t0.0038\n",
            "Loudness\t-9.002\t-7.258999999999999\n",
            "Speechiness\t0.0326\t0.0538\n",
            "Valence\t0.401\t0.8859999999999999\n",
            "Energy\t0.508\t0.838\n",
            "Mode\t1\t1\n",
            "Tempo\t122.999\t116.92\n",
            "Livenss\t0.187\t0.0808\n",
            "Key\t3\t9\n",
            "Acousticness\t0.556\t0.3720000000000001\n",
            "\n",
            "\n",
            "artist_name\tProkumar & Arijit Singh & Alka Yagnik\tRico Richie\n",
            "album_name\tIn the Sky\tR.S.E.T. 3: Back 2 the Streets\n",
            "track_name\tAgar Tum Saath Ho\tMy Buddy\n",
            "Danceability\t0.557\t0.7240000000000001\n",
            "Instrumentalness\t0.000379\t0.0\n",
            "Loudness\t-9.002\t-4.113\n",
            "Speechiness\t0.0326\t0.0549\n",
            "Valence\t0.401\t0.438\n",
            "Energy\t0.508\t0.573\n",
            "Mode\t1\t1\n",
            "Tempo\t122.999\t113.088\n",
            "Livenss\t0.187\t0.5379999999999999\n",
            "Key\t3\t7\n",
            "Acousticness\t0.556\t0.118\n",
            "\n",
            "\n",
            "artist_name\tProkumar & Arijit Singh & Alka Yagnik\tDion & The Wanderers\n",
            "album_name\tIn the Sky\tThe Road I'm On: A Retrospective\n",
            "track_name\tAgar Tum Saath Ho\tI Can't Help But Wonder Where I'm Bound\n",
            "Danceability\t0.557\t0.375\n",
            "Instrumentalness\t0.000379\t0.885\n",
            "Loudness\t-9.002\t-6.108\n",
            "Speechiness\t0.0326\t0.0503\n",
            "Valence\t0.401\t0.53\n",
            "Energy\t0.508\t0.78\n",
            "Mode\t1\t1\n",
            "Tempo\t122.999\t124.188\n",
            "Livenss\t0.187\t0.529\n",
            "Key\t3\t5\n",
            "Acousticness\t0.556\t0.334\n",
            "\n",
            "\n",
            "artist_name\tProkumar & Arijit Singh & Alka Yagnik\tJuan Luis Guerra 4.40\n",
            "album_name\tIn the Sky\tSabor Criollo (Música Típica), Vol. 1\n",
            "track_name\tAgar Tum Saath Ho\tLa Cosquillita\n",
            "Danceability\t0.557\t0.478\n",
            "Instrumentalness\t0.000379\t0.0\n",
            "Loudness\t-9.002\t-5.0710000000000015\n",
            "Speechiness\t0.0326\t0.0988\n",
            "Valence\t0.401\t0.928\n",
            "Energy\t0.508\t0.893\n",
            "Mode\t1\t1\n",
            "Tempo\t122.999\t174.09400000000005\n",
            "Livenss\t0.187\t0.262\n",
            "Key\t3\t0\n",
            "Acousticness\t0.556\t0.643\n",
            "\n",
            "\n",
            "artist_name\tShreya Ghoshal\tBuena Vista Social Club\n",
            "album_name\tTeri Meri Kahaani\tBuena Vista Social Club At Carnegie Hall\n",
            "track_name\tHumse Pyaar Kar Le Tu\tMandinga - Live\n",
            "Danceability\t0.736\t0.5489999999999999\n",
            "Instrumentalness\t4.01e-06\t0.8809999999999999\n",
            "Loudness\t-4.477\t-7.886\n",
            "Speechiness\t0.0669\t0.101\n",
            "Valence\t0.868\t0.544\n",
            "Energy\t0.961\t0.883\n",
            "Mode\t1\t0\n",
            "Tempo\t107.98\t80.855\n",
            "Livenss\t0.0449\t0.916\n",
            "Key\t0\t7\n",
            "Acousticness\t0.141\t0.71\n",
            "\n",
            "\n",
            "artist_name\tShreya Ghoshal\tBig Black Delta\n",
            "album_name\tTeri Meri Kahaani\tBig Black Delta\n",
            "track_name\tHumse Pyaar Kar Le Tu\tThe Zebrah\n",
            "Danceability\t0.736\t0.65\n",
            "Instrumentalness\t4.01e-06\t0.0127\n",
            "Loudness\t-4.477\t-5.5870000000000015\n",
            "Speechiness\t0.0669\t0.105\n",
            "Valence\t0.868\t0.355\n",
            "Energy\t0.961\t0.773\n",
            "Mode\t1\t0\n",
            "Tempo\t107.98\t99.493\n",
            "Livenss\t0.0449\t0.0853\n",
            "Key\t0\t9\n",
            "Acousticness\t0.141\t0.212\n",
            "\n",
            "\n",
            "artist_name\tShreya Ghoshal\tLorrie Morgan\n",
            "album_name\tTeri Meri Kahaani\tWatch Me\n",
            "track_name\tHumse Pyaar Kar Le Tu\tWhat Part of No\n",
            "Danceability\t0.736\t0.72\n",
            "Instrumentalness\t4.01e-06\t1.39e-05\n",
            "Loudness\t-4.477\t-9.675\n",
            "Speechiness\t0.0669\t0.027000000000000003\n",
            "Valence\t0.868\t0.831\n",
            "Energy\t0.961\t0.531\n",
            "Mode\t1\t1\n",
            "Tempo\t107.98\t129.97899999999998\n",
            "Livenss\t0.0449\t0.341\n",
            "Key\t0\t3\n",
            "Acousticness\t0.141\t0.434\n",
            "\n",
            "\n",
            "artist_name\tShreya Ghoshal\tBilly Talent\n",
            "album_name\tTeri Meri Kahaani\tBilly Talent\n",
            "track_name\tHumse Pyaar Kar Le Tu\tRiver Below\n",
            "Danceability\t0.736\t0.466\n",
            "Instrumentalness\t4.01e-06\t0.0\n",
            "Loudness\t-4.477\t-2.774\n",
            "Speechiness\t0.0669\t0.0745\n",
            "Valence\t0.868\t0.631\n",
            "Energy\t0.961\t0.957\n",
            "Mode\t1\t0\n",
            "Tempo\t107.98\t175.55200000000005\n",
            "Livenss\t0.0449\t0.339\n",
            "Key\t0\t7\n",
            "Acousticness\t0.141\t0.000359\n",
            "\n",
            "\n"
          ],
          "name": "stdout"
        }
      ]
    },
    {
      "cell_type": "markdown",
      "metadata": {
        "id": "8Lsm9CW5z39D"
      },
      "source": [
        "**First Method of Evaluation**\n",
        "\n",
        "For a given recommended song (**Sr**), find out the most similar input song  (**Si**)using cosine similarity as the metric\n",
        "\n",
        "For 0 <= i < len(atrributes), precompute and store the ranges of each atrribute (**R_i**). Based on the ranges, define an interval **Delta_i** (the limit in which we want to call songs similar wrt that attribute)\n",
        "\n",
        "For Sr and Si, for each attribute, calculate **diff_i = |inp_i - rec_i| / R_i**\n",
        "\n",
        "Count the number of attributes which have diff_i <= Delta_i\n",
        "\n",
        "If that number > 3 (or some preset threshold), then the recommmended song is considered as a **Good Recommendation**\n",
        "\n",
        "\n"
      ]
    },
    {
      "cell_type": "code",
      "metadata": {
        "id": "CNswtXzK1RAc",
        "outputId": "4b7343a2-8639-411b-8554-e557705030cc",
        "colab": {
          "base_uri": "https://localhost:8080/"
        }
      },
      "source": [
        "attribute_ranges = []\n",
        "numeric_cols = ['Danceability','Instrumentalness','Loudness','Speechiness','Valence','Energy','Mode','Tempo','Livenss','Key','Acousticness']\n",
        "for attr in numeric_cols:\n",
        "  print(attr)\n",
        "  attr_index = train.columns.get_loc(attr)\n",
        "  df_min = train[train[attr]==train[attr].min()].values.tolist()[0]\n",
        "  print(df_min[attr_index])\n",
        "  df_max = train[train[attr]==train[attr].max()].values.tolist()[0]\n",
        "  print(df_max[attr_index])\n",
        "  attribute_ranges.append(float(df_max[attr_index]-df_min[attr_index]))\n",
        "\n",
        "print(attribute_ranges)"
      ],
      "execution_count": 11,
      "outputs": [
        {
          "output_type": "stream",
          "text": [
            "Danceability\n",
            "0.0\n",
            "0.991\n",
            "Instrumentalness\n",
            "0.0\n",
            "0.9990000000000001\n",
            "Loudness\n",
            "-60.0\n",
            "2.766\n",
            "Speechiness\n",
            "0.0\n",
            "0.965\n",
            "Valence\n",
            "0.0\n",
            "1.0\n",
            "Energy\n",
            "0.0\n",
            "1.0\n",
            "Mode\n",
            "0\n",
            "1\n",
            "Tempo\n",
            "0.0\n",
            "249.703\n",
            "Livenss\n",
            "0.0\n",
            "1.0\n",
            "Key\n",
            "0\n",
            "11\n",
            "Acousticness\n",
            "0.0\n",
            "0.996\n",
            "[0.991, 0.9990000000000001, 62.766, 0.965, 1.0, 1.0, 1.0, 249.703, 1.0, 11.0, 0.996]\n"
          ],
          "name": "stdout"
        }
      ]
    },
    {
      "cell_type": "code",
      "metadata": {
        "id": "YKNSTElZEEWr",
        "outputId": "37d2613b-24cf-4e96-b3cb-c41dde2d044b",
        "colab": {
          "base_uri": "https://localhost:8080/"
        }
      },
      "source": [
        "'''Returns True is the song is a good recommendation, False if it is not'''\n",
        "def evaluate(item, attribute_ranges):\n",
        "    reco = item[1]\n",
        "    closest_inp = item[2]\n",
        "    inp_rows = train.loc[train['trackindex'] == closest_inp]\n",
        "    rec_rows = train.loc[train['trackindex'] == reco]\n",
        "    # print(inp_rows.columns)\n",
        "    req_cols = ['artist_name', 'album_name', 'track_name', 'Danceability', 'Instrumentalness', 'Loudness', 'Speechiness', 'Valence', 'Energy', 'Mode', 'Tempo', 'Livenss', 'Key', 'Acousticness',]\n",
        "    inp_features = inp_rows[req_cols].values.tolist()[0]\n",
        "    rec_features = rec_rows[req_cols].values.tolist()[0]\n",
        "    artist_index = train.columns.get_loc('artist_name')\n",
        "    album_index = train.columns.get_loc('album_name')\n",
        "    if inp_features[artist_index] == rec_features[artist_index]:\n",
        "      return True\n",
        "    if inp_features[album_index] == rec_features[album_index]:\n",
        "      return True\n",
        "    count = 0\n",
        "    for i in range(3, len(inp_features)):\n",
        "      val = float(abs(rec_features[i] - inp_features[i])/attribute_ranges[i-3])\n",
        "      if val <= 0.2:\n",
        "        count += 1\n",
        "    if count >= 6:\n",
        "      return True\n",
        "    return False\n",
        "\n",
        "\n",
        "count = 0\n",
        "for item in similar_song_ids:\n",
        "  if evaluate(item, attribute_ranges) == True:\n",
        "    print(\"Good\")\n",
        "    count+=1\n",
        "  else:\n",
        "    print(\"Bad\")\n",
        "\n",
        "print(str(count) + \" out of \" + str(len(similar_song_ids)) + \" songs are Good Recommendations\")"
      ],
      "execution_count": 12,
      "outputs": [
        {
          "output_type": "stream",
          "text": [
            "Good\n",
            "Good\n",
            "Good\n",
            "Good\n",
            "Bad\n",
            "Good\n",
            "Good\n",
            "Bad\n",
            "6 out of 8 songs are Good Recommendations\n"
          ],
          "name": "stdout"
        }
      ]
    },
    {
      "cell_type": "code",
      "metadata": {
        "id": "yVIVZUT8w1zv"
      },
      "source": [
        ""
      ],
      "execution_count": 12,
      "outputs": []
    },
    {
      "cell_type": "markdown",
      "metadata": {
        "id": "BPAdR-dfsg4W"
      },
      "source": [
        "Till now, the song recommendations were based on the representation of a song in terms of its playlist. (i.e the trained playlist-song matrix)\n",
        "\n",
        "Now we'll generate another set of recommendations based on the representation of a song in terms of the Artist (trained artist-song matrix)\n",
        "\n",
        "We'll combine both of the recommendations in some ratio to get our final set of recommended songs\n"
      ]
    },
    {
      "cell_type": "code",
      "metadata": {
        "id": "USFKE_cwnl51",
        "outputId": "da14a18b-3522-492d-d829-f6e900529d05",
        "colab": {
          "base_uri": "https://localhost:8080/"
        }
      },
      "source": [
        "with open('Artists-weights22kwithfeatures.pickle', 'rb') as f:\n",
        "    model_weights = pickle.load(f)\n",
        "\n",
        "artist_matrix = model_weights[0]\n",
        "print(playlist_matrix.shape)\n",
        "songs_matrix_2 = model_weights[1]\n",
        "print(songs_matrix_2.shape)"
      ],
      "execution_count": 13,
      "outputs": [
        {
          "output_type": "stream",
          "text": [
            "(22740, 11)\n",
            "(289796, 11)\n"
          ],
          "name": "stdout"
        }
      ]
    },
    {
      "cell_type": "code",
      "metadata": {
        "id": "UWgf-SevqEYz",
        "outputId": "6a177ca9-2c8d-4feb-c4dc-b7861843eaee",
        "colab": {
          "base_uri": "https://localhost:8080/"
        }
      },
      "source": [
        "input_song_names = ['Agar Tum Saath Ho', 'Humse Pyaar Kar Le Tu']\n",
        "song_ids = []\n",
        "for song_name in input_song_names:\n",
        "  rows = train.loc[train['track_name'] == song_name]\n",
        "  try:\n",
        "    song_id = rows['trackindex'].to_list()[0]\n",
        "    song_ids.append(song_id)\n",
        "  except:\n",
        "    song_id = -1\n",
        "  print(song_id)\n",
        "\n",
        "print(song_ids) \n",
        "similar_song_ids = []\n",
        "rec_ids = set()\n",
        "for input_id in song_ids:\n",
        "  print(input_id)\n",
        "  get = cosine_similarity(songs_matrix_2,input_id,5)\n",
        "  for rec_id in get:\n",
        "    if rec_id not in rec_ids:\n",
        "      rec_ids.add(rec_id)\n",
        "      temp = []\n",
        "      temp.append(rec_id[1])\n",
        "      temp.append(rec_id[0])  \n",
        "      temp.append(input_id)\n",
        "      if temp[1] != temp[2]: #input song and recommended song shouldn't be the same\n",
        "        similar_song_ids.append(temp)\n",
        "similar_song_ids.sort()\n",
        "print(similar_song_ids)"
      ],
      "execution_count": 14,
      "outputs": [
        {
          "output_type": "stream",
          "text": [
            "284753\n",
            "152174\n",
            "[284753, 152174]\n",
            "284753\n",
            "152174\n",
            "[[0.9997078, 155131, 284753], [0.9997328, 122174, 284753], [0.99981594, 47633, 284753], [0.99984443, 194814, 284753], [0.999911, 29824, 152174], [0.999911, 207117, 152174], [0.9999242, 241507, 152174], [0.99993265, 217636, 152174]]\n"
          ],
          "name": "stdout"
        }
      ]
    },
    {
      "cell_type": "code",
      "metadata": {
        "id": "7sZhEE1PrrAw",
        "outputId": "ae346a9a-6cd7-469f-f0c1-8d3ef50f63c4",
        "colab": {
          "base_uri": "https://localhost:8080/"
        }
      },
      "source": [
        "output_list_2 = []\n",
        "for track in similar_song_ids:\n",
        "  inp_rows = train.loc[train['trackindex'] == track[2]]\n",
        "  inp_song  = inp_rows['track_name'].tolist()[0]\n",
        "  rows = train.loc[train['trackindex'] == track[1]]\n",
        "  song_name = rows['track_name'].tolist()\n",
        "  print(song_name[0])\n",
        "  output_list_2.append(song_name[0])\n",
        "if len(similar_song_ids) == 0:\n",
        "  for song in most_popular:\n",
        "    print(song)\n",
        "    output_list_2.append(song)"
      ],
      "execution_count": 15,
      "outputs": [
        {
          "output_type": "stream",
          "text": [
            "Dupatta Tera Sat Rang Da\n",
            "Hazey Jane I\n",
            "Dawning\n",
            "Hearts\n",
            "No Me Compares\n",
            "Drink My Rivers\n",
            "Pretty Girl - Main (with rap)\n",
            "Guelah Papyrus\n"
          ],
          "name": "stdout"
        }
      ]
    },
    {
      "cell_type": "code",
      "metadata": {
        "id": "FiTPUDS_tLeX",
        "outputId": "b6e4833a-8f70-4a4b-b380-fde0917a0114",
        "colab": {
          "base_uri": "https://localhost:8080/"
        }
      },
      "source": [
        "for track in similar_song_ids:\n",
        "  inp_rows = train.loc[train['trackindex'] == track[2]]\n",
        "  rec_rows = train.loc[train['trackindex'] == track[1]]\n",
        "  # print(inp_rows.columns)\n",
        "  req_cols = ['artist_name', 'album_name', 'track_name', 'Danceability', 'Instrumentalness', 'Loudness', 'Speechiness',\n",
        "       'Valence', 'Energy', 'Mode', 'Tempo', 'Livenss', 'Key', 'Acousticness',]\n",
        "  inp_features = inp_rows[req_cols].values.tolist()[0]\n",
        "  rec_features = rec_rows[req_cols].values.tolist()[0]\n",
        "  for i in range(0, len(inp_features)):\n",
        "    print(str(req_cols[i])+\"\\t\"+str(inp_features[i])+\"\\t\"+str(rec_features[i]))\n",
        "  \n",
        "  print(\"\\n\")\n"
      ],
      "execution_count": 16,
      "outputs": [
        {
          "output_type": "stream",
          "text": [
            "artist_name\tProkumar & Arijit Singh & Alka Yagnik\tSurjit Bindrakhia\n",
            "album_name\tIn the Sky\tDupatta Tera Sat Rang Da\n",
            "track_name\tAgar Tum Saath Ho\tDupatta Tera Sat Rang Da\n",
            "Danceability\t0.557\t0.467\n",
            "Instrumentalness\t0.000379\t0.0\n",
            "Loudness\t-9.002\t-9.038\n",
            "Speechiness\t0.0326\t0.0916\n",
            "Valence\t0.401\t0.948\n",
            "Energy\t0.508\t0.708\n",
            "Mode\t1\t0\n",
            "Tempo\t122.999\t172.817\n",
            "Livenss\t0.187\t0.598\n",
            "Key\t3\t4\n",
            "Acousticness\t0.556\t0.111\n",
            "\n",
            "\n",
            "artist_name\tProkumar & Arijit Singh & Alka Yagnik\tNick Drake\n",
            "album_name\tIn the Sky\tBryter Layter\n",
            "track_name\tAgar Tum Saath Ho\tHazey Jane I\n",
            "Danceability\t0.557\t0.501\n",
            "Instrumentalness\t0.000379\t0.000953\n",
            "Loudness\t-9.002\t-19.106\n",
            "Speechiness\t0.0326\t0.0336\n",
            "Valence\t0.401\t0.155\n",
            "Energy\t0.508\t0.215\n",
            "Mode\t1\t1\n",
            "Tempo\t122.999\t100.14\n",
            "Livenss\t0.187\t0.129\n",
            "Key\t3\t6\n",
            "Acousticness\t0.556\t0.5770000000000001\n",
            "\n",
            "\n",
            "artist_name\tProkumar & Arijit Singh & Alka Yagnik\tMusic For Alarm Apps\n",
            "album_name\tIn the Sky\tAmbient Tracks Vol. 1\n",
            "track_name\tAgar Tum Saath Ho\tDawning\n",
            "Danceability\t0.557\t0.6829999999999999\n",
            "Instrumentalness\t0.000379\t0.0\n",
            "Loudness\t-9.002\t-6.6179999999999986\n",
            "Speechiness\t0.0326\t0.0663\n",
            "Valence\t0.401\t0.343\n",
            "Energy\t0.508\t0.7140000000000001\n",
            "Mode\t1\t0\n",
            "Tempo\t122.999\t75.006\n",
            "Livenss\t0.187\t0.07\n",
            "Key\t3\t1\n",
            "Acousticness\t0.556\t0.0188\n",
            "\n",
            "\n",
            "artist_name\tProkumar & Arijit Singh & Alka Yagnik\tPatrick Watson\n",
            "album_name\tIn the Sky\tLove Songs For Robots\n",
            "track_name\tAgar Tum Saath Ho\tHearts\n",
            "Danceability\t0.557\t0.484\n",
            "Instrumentalness\t0.000379\t0.0\n",
            "Loudness\t-9.002\t-9.036\n",
            "Speechiness\t0.0326\t0.371\n",
            "Valence\t0.401\t0.568\n",
            "Energy\t0.508\t0.588\n",
            "Mode\t1\t1\n",
            "Tempo\t122.999\t110.72\n",
            "Livenss\t0.187\t0.335\n",
            "Key\t3\t2\n",
            "Acousticness\t0.556\t0.173\n",
            "\n",
            "\n",
            "artist_name\tShreya Ghoshal\tEzequiel Peña\n",
            "album_name\tTeri Meri Kahaani\tCon Sangre De Ranchero\n",
            "track_name\tHumse Pyaar Kar Le Tu\tNo Me Compares\n",
            "Danceability\t0.736\t0.489\n",
            "Instrumentalness\t4.01e-06\t0.000379\n",
            "Loudness\t-4.477\t-13.23\n",
            "Speechiness\t0.0669\t0.0313\n",
            "Valence\t0.868\t0.621\n",
            "Energy\t0.961\t0.255\n",
            "Mode\t1\t1\n",
            "Tempo\t107.98\t175.988\n",
            "Livenss\t0.0449\t0.0859\n",
            "Key\t0\t10\n",
            "Acousticness\t0.141\t0.7879999999999999\n",
            "\n",
            "\n",
            "artist_name\tShreya Ghoshal\tAndy Shauf\n",
            "album_name\tTeri Meri Kahaani\tThe Bearer of Bad News\n",
            "track_name\tHumse Pyaar Kar Le Tu\tDrink My Rivers\n",
            "Danceability\t0.736\t0.652\n",
            "Instrumentalness\t4.01e-06\t0.00952\n",
            "Loudness\t-4.477\t-12.195\n",
            "Speechiness\t0.0669\t0.0364\n",
            "Valence\t0.868\t0.15\n",
            "Energy\t0.961\t0.226\n",
            "Mode\t1\t1\n",
            "Tempo\t107.98\t123.495\n",
            "Livenss\t0.0449\t0.0738\n",
            "Key\t0\t9\n",
            "Acousticness\t0.141\t0.8490000000000001\n",
            "\n",
            "\n",
            "artist_name\tShreya Ghoshal\tJarvis\n",
            "album_name\tTeri Meri Kahaani\tPretty Girl\n",
            "track_name\tHumse Pyaar Kar Le Tu\tPretty Girl - Main (with rap)\n",
            "Danceability\t0.736\t0.471\n",
            "Instrumentalness\t4.01e-06\t0.0\n",
            "Loudness\t-4.477\t-5.7070000000000025\n",
            "Speechiness\t0.0669\t0.324\n",
            "Valence\t0.868\t0.69\n",
            "Energy\t0.961\t0.579\n",
            "Mode\t1\t1\n",
            "Tempo\t107.98\t158.266\n",
            "Livenss\t0.0449\t0.12\n",
            "Key\t0\t8\n",
            "Acousticness\t0.141\t0.0867\n",
            "\n",
            "\n",
            "artist_name\tShreya Ghoshal\tPhish\n",
            "album_name\tTeri Meri Kahaani\tA Picture Of Nectar\n",
            "track_name\tHumse Pyaar Kar Le Tu\tGuelah Papyrus\n",
            "Danceability\t0.736\t0.4\n",
            "Instrumentalness\t4.01e-06\t0.0267\n",
            "Loudness\t-4.477\t-12.707\n",
            "Speechiness\t0.0669\t0.0578\n",
            "Valence\t0.868\t0.7240000000000001\n",
            "Energy\t0.961\t0.603\n",
            "Mode\t1\t1\n",
            "Tempo\t107.98\t174.308\n",
            "Livenss\t0.0449\t0.0868\n",
            "Key\t0\t7\n",
            "Acousticness\t0.141\t0.192\n",
            "\n",
            "\n"
          ],
          "name": "stdout"
        }
      ]
    },
    {
      "cell_type": "code",
      "metadata": {
        "id": "nJpyU4A9toi7",
        "outputId": "04da5b2b-320e-4adf-c2aa-2ee11a593df5",
        "colab": {
          "base_uri": "https://localhost:8080/"
        }
      },
      "source": [
        "'''Returns True is the song is a good recommendation, False if it is not'''\n",
        "def evaluate(item, attribute_ranges):\n",
        "    reco = item[1]\n",
        "    closest_inp = item[2]\n",
        "    inp_rows = train.loc[train['trackindex'] == closest_inp]\n",
        "    rec_rows = train.loc[train['trackindex'] == reco]\n",
        "    # print(inp_rows.columns)\n",
        "    req_cols = ['artist_name', 'album_name', 'track_name', 'Danceability', 'Instrumentalness', 'Loudness', 'Speechiness', 'Valence', 'Energy', 'Mode', 'Tempo', 'Livenss', 'Key', 'Acousticness',]\n",
        "    inp_features = inp_rows[req_cols].values.tolist()[0]\n",
        "    rec_features = rec_rows[req_cols].values.tolist()[0]\n",
        "    artist_index = train.columns.get_loc('artist_name')\n",
        "    album_index = train.columns.get_loc('album_name')\n",
        "    if inp_features[artist_index] == rec_features[artist_index]:\n",
        "      return True\n",
        "    if inp_features[album_index] == rec_features[album_index]:\n",
        "      return True\n",
        "    count = 0\n",
        "    for i in range(3, len(inp_features)):\n",
        "      val = float(abs(rec_features[i] - inp_features[i])/attribute_ranges[i-3])\n",
        "      if val <= 0.2:\n",
        "        count += 1\n",
        "    if count >= 6:\n",
        "      return True\n",
        "    return False\n",
        "\n",
        "\n",
        "count = 0\n",
        "for item in similar_song_ids:\n",
        "  if evaluate(item, attribute_ranges) == True:\n",
        "    print(\"Good\")\n",
        "    count+=1\n",
        "  else:\n",
        "    print(\"Bad\")\n",
        "\n",
        "print(str(count) + \" out of \" + str(len(similar_song_ids)) + \" songs are Good Recommendations\")"
      ],
      "execution_count": 17,
      "outputs": [
        {
          "output_type": "stream",
          "text": [
            "Good\n",
            "Good\n",
            "Good\n",
            "Good\n",
            "Bad\n",
            "Good\n",
            "Good\n",
            "Good\n",
            "7 out of 8 songs are Good Recommendations\n"
          ],
          "name": "stdout"
        }
      ]
    },
    {
      "cell_type": "markdown",
      "metadata": {
        "id": "_51Ijl0ofBGT"
      },
      "source": [
        "Final step: Combine both recommendations given by Artist and Playlist based representations\n"
      ]
    },
    {
      "cell_type": "code",
      "metadata": {
        "id": "Eqn7Bz6mfZXq",
        "outputId": "1ff10425-1cbb-43d0-f243-f655f31996ab",
        "colab": {
          "base_uri": "https://localhost:8080/"
        }
      },
      "source": [
        "n1 = int(len(output_list_1)/2)-1\n",
        "n2 = int(len(output_list_2)/2)-1\n",
        "final_list = output_list_1[0:n1] + output_list_2[0:n2]\n",
        "for song in final_list:\n",
        "  print(song)"
      ],
      "execution_count": 20,
      "outputs": [
        {
          "output_type": "stream",
          "text": [
            "Awuthule Kancane?\n",
            "My Buddy\n",
            "I Can't Help But Wonder Where I'm Bound\n",
            "Dupatta Tera Sat Rang Da\n",
            "Hazey Jane I\n",
            "Dawning\n"
          ],
          "name": "stdout"
        }
      ]
    }
  ]
}